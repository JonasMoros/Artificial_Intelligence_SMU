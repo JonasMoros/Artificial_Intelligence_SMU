{
 "cells": [
  {
   "cell_type": "markdown",
   "metadata": {},
   "source": [
    "# Search: Solving a Maze Using a Goal-based Agent\n",
    "\n",
    "\n",
    "## Instructions\n",
    "\n",
    "Total Points: Undegraduates 10, graduate students 11\n",
    "\n",
    "Complete this notebook and submit it. The notebook needs to be a complete project report with \n",
    "\n",
    "* your implementation,\n",
    "* documentation including a short discussion of how your implementation works and your design choices, and\n",
    "* experimental results (e.g., tables and charts with simulation results) with a short discussion of what they mean. \n",
    "\n",
    "Use the provided notebook cells and insert additional code and markdown cells as needed.\n",
    "\n",
    "\n",
    "## Introduction\n",
    "\n",
    "The agent has a map of the maze it is in and the environment is assumed to be **deterministic, discrete, and known.** The agent must use the map to plan a path through the maze from the starting location $S$ to the goal location $G$.  This is a planing exercise for a goal-based agent, so you do not need to implement an environment, just use the map to search for a path. Once the plan is made, the agent in a deterministic environment (i.e., the transition function is deterministic with the outcome of each state/action pair fixed and no randomness) can just follow the path and does not need to care about the percepts.\n",
    "This is also called an **[open-loop system](https://en.wikipedia.org/wiki/Open-loop_controller).**\n",
    "The execution phase is trivial and we do not implement it in this exercise.\n",
    "\n",
    "Tree search algorithm implementations that you find online and used in general algorithms courses have often a different aim. These algorithms assume that you already have a tree in memory. We are interested in dynamically creating a search tree with the aim of finding a good/the best path from the root noteto the goal state. Follow the pseudo code presented in the text book (and replicated in the slides) closely. Ideally, we would like to search only a small part of the maze, i.e., create a search tree with as few nodes as possible. \n",
    "\n",
    "Several mazes for this exercise are stored as text files. Here is the small example maze:"
   ]
  },
  {
   "cell_type": "code",
   "execution_count": 332,
   "metadata": {},
   "outputs": [
    {
     "name": "stdout",
     "output_type": "stream",
     "text": [
      "XXXXXXXXXXXXXXXXXXXXXX\n",
      "X XX        X X      X\n",
      "X    XXXXXX X XXXXXX X\n",
      "XXXXXX     S  X      X\n",
      "X    X XXXXXX XX XXXXX\n",
      "X XXXX X         X   X\n",
      "X        XXX XXX   X X\n",
      "XXXXXXXXXX    XXXXXX X\n",
      "XG         XX        X\n",
      "XXXXXXXXXXXXXXXXXXXXXX\n",
      "\n"
     ]
    }
   ],
   "source": [
    "mazes = [\"small_maze.txt\",\"medium_maze.txt\",\"large_maze.txt\",\"open_maze.txt\",\"loops_maze.txt\",\"empty_2_maze.txt\",\"wall_maze.txt\"]\n",
    "f = open(\"small_maze.txt\", \"r\")\n",
    "maze_str = f.read()\n",
    "print(maze_str)\n",
    "%run maze_helper.py\n",
    "maze = parse_maze(maze_str)"
   ]
  },
  {
   "cell_type": "markdown",
   "metadata": {},
   "source": [
    "__Note:__ The mazes above contains cycles and therefore the state space may not form proper trees unless cycles are prevented. Therfore, you will need to deal with cycle detection in your code."
   ]
  },
  {
   "cell_type": "markdown",
   "metadata": {},
   "source": [
    "## Parsing and pretty printing the maze\n",
    "\n",
    "The maze can also be displayed in color using code in the file [maze_helper.py](maze_helper.py). The code parses the string representing the maze and converts it into a `numpy` 2d array which you can use in your implementation. I represent a position as a 2-tuple of the form `(row, col)`. "
   ]
  },
  {
   "cell_type": "code",
   "execution_count": 333,
   "metadata": {
    "scrolled": true
   },
   "outputs": [
    {
     "name": "stdout",
     "output_type": "stream",
     "text": [
      "Position(0,0): X\n",
      "Position(8,1): G\n"
     ]
    }
   ],
   "source": [
    "\n",
    "# look at a position in the maze by subsetting the 2d array\n",
    "print(\"Position(0,0):\", maze[0, 0])\n",
    "\n",
    "# there is also a helper function called `look(maze, pos)` available\n",
    "# which uses a 2-tuple for the position.\n",
    "print(\"Position(8,1):\", look(maze, (8, 1)))"
   ]
  },
  {
   "cell_type": "markdown",
   "metadata": {},
   "source": [
    "A helper function to visualize the maze is also available."
   ]
  },
  {
   "cell_type": "code",
   "execution_count": 334,
   "metadata": {},
   "outputs": [],
   "source": [
    "%matplotlib inline\n",
    "%config InlineBackend.figure_format = 'retina'\n",
    "# use higher resolution images in notebook"
   ]
  },
  {
   "cell_type": "markdown",
   "metadata": {},
   "source": [
    "Find the position of the start and the goal using the helper function `find_pos()`"
   ]
  },
  {
   "cell_type": "code",
   "execution_count": 335,
   "metadata": {},
   "outputs": [
    {
     "name": "stdout",
     "output_type": "stream",
     "text": [
      "Start location: (3, 11)\n",
      "Goal location: (8, 1)\n"
     ]
    }
   ],
   "source": [
    "print(\"Start location:\", find_pos(maze, what = \"S\"))\n",
    "print(\"Goal location:\", find_pos(maze, what = \"G\"))"
   ]
  },
  {
   "cell_type": "markdown",
   "metadata": {},
   "source": [
    "## Tree structure\n",
    "\n",
    "Here is an implementation of the basic node structure for the search algorithms (see Fig 3.7 on page 73). I have added a method that extracts the path from the root node to the current node. It can be used to get the path when the search is completed."
   ]
  },
  {
   "cell_type": "code",
   "execution_count": 371,
   "metadata": {},
   "outputs": [],
   "source": [
    "class Node:\n",
    "    def __init__(self, pos, parent, action, cost,weight=None):\n",
    "        self.pos = tuple(pos)    # the state; positions are (row,col)\n",
    "        self.parent = parent     # reference to parent node. None means root node.\n",
    "        self.action = action     # action used in the transition function (root node has None)\n",
    "        self.cost = cost         # for uniform cost this is the depth. It is also g(n) for A* search\n",
    "        self.weight = weight \n",
    "    def __str__(self):\n",
    "        return f\"Node - pos = {self.pos}; action = {self.action}; cost = {self.cost}\"\n",
    "    \n",
    "    def __lt__(self,other):\n",
    "        return self.weight < other.weight\n",
    "        \n",
    "    def get_path_from_root(self):\n",
    "        \"\"\"returns nodes on the path from the root to the current node.\"\"\"\n",
    "        node = self\n",
    "        path = [node]\n",
    "    \n",
    "        while not node.parent is None:\n",
    "            node = node.parent\n",
    "            path.append(node)\n",
    "        \n",
    "        path.reverse()\n",
    "        \n",
    "        return(path)\n",
    "        \n",
    "    def get_position(self):\n",
    "        return self.pos\n",
    "    "
   ]
  },
  {
   "cell_type": "markdown",
   "metadata": {},
   "source": [
    "If needed, then you can add more fields to the class.\n",
    "\n",
    "\n",
    "__Tree and memory management example:__ Create the root node and append the node for going east with a cost of 1."
   ]
  },
  {
   "cell_type": "code",
   "execution_count": 372,
   "metadata": {},
   "outputs": [
    {
     "name": "stdout",
     "output_type": "stream",
     "text": [
      "Create root node\n",
      "root: Node - pos = (0, 0); action = None; cost = 0\n",
      "root (reference): <__main__.Node object at 0x0000023008F71B50>\n",
      "\n",
      "Go east with cost 1 (from the parent root)\n",
      "node2: Node - pos = (0, 1); action = E; cost = 1\n",
      "parent of node2:  Node - pos = (0, 0); action = None; cost = 0\n",
      "parent of node2 (reference):  <__main__.Node object at 0x0000023008F71B50>\n",
      "Root is now referenced twice. Reference count for garbage collection (root node): 2\n",
      "\n",
      "Note that the root node is safe from garbage collection as long as we have also a reference in node2\n",
      "None\n",
      "parent of node2 (reference to root node):  <__main__.Node object at 0x0000023008F71B50>\n",
      "Reference count for garbage collection (root node): 1\n",
      "\n",
      "Path from root to node2\n",
      "References: [<__main__.Node object at 0x0000023008F71B50>, <__main__.Node object at 0x00000230086885E0>]\n",
      "Positions: [(0, 0), (0, 1)]\n",
      "Actions: [None, 'E']\n",
      "Cost: [0, 1]\n",
      "\n",
      "Once we delete the reference to node2, the reference count for all nodes goes to zero and the whole tree is exposed to garbage collection.\n"
     ]
    }
   ],
   "source": [
    "# import sys to access reference counts\n",
    "import sys\n",
    "\n",
    "print(\"Create root node\")\n",
    "root = Node(pos = (0,0), parent = None, action = None, cost = 0)\n",
    "print(\"root:\", root)\n",
    "print(\"root (reference):\", repr(root))\n",
    "\n",
    "print()\n",
    "print(\"Go east with cost 1 (from the parent root)\")\n",
    "node2 = Node(pos = (0,1), parent = root, action = \"E\", cost = 1)\n",
    "print(\"node2:\", node2)\n",
    "print(\"parent of node2: \", node2.parent)\n",
    "print(\"parent of node2 (reference): \", repr(node2.parent))\n",
    "# Note: -1 is used because passing root to getrefcount adds one reference\n",
    "print(\"Root is now referenced twice. Reference count for garbage collection (root node):\", sys.getrefcount(root)-1)\n",
    "\n",
    "print()\n",
    "print(\"Note that the root node is safe from garbage collection as long as we have also a reference in node2\") \n",
    "root = None\n",
    "print(root)\n",
    "print(\"parent of node2 (reference to root node): \", repr(node2.parent))\n",
    "print(\"Reference count for garbage collection (root node):\", sys.getrefcount(node2.parent)-1)\n",
    "\n",
    "print()\n",
    "print(\"Path from root to node2\")\n",
    "path = node2.get_path_from_root()\n",
    "print(\"References:\", path)\n",
    "print(\"Positions:\", [n.pos for n in path])\n",
    "print(\"Actions:\", [n.action for n in path])\n",
    "print(\"Cost:\", [n.cost for n in path])\n",
    "\n",
    "\n",
    "print()\n",
    "print(\"Once we delete the reference to node2, the reference count for all nodes goes to zero and the whole tree is exposed to garbage collection.\")\n",
    "node2 = None\n",
    "\n"
   ]
  },
  {
   "cell_type": "markdown",
   "metadata": {},
   "source": [
    "# Goal\n",
    "Implement the following search algorithms for solving different mazes:\n",
    "\n",
    "* Breadth-first search (BFS)\n",
    "* Depth-first search (DFS)\n",
    "* Greedy best-first search (GBFS)\n",
    "* A* search\n",
    "\n",
    "Run each of the above algorithms on the \n",
    "[small maze](small_maze.txt), \n",
    "[medium maze](medium_maze.txt), \n",
    "[large maze](large_maze.txt), \n",
    "[open maze](open_maze.txt),\n",
    "[wall maze](wall_maze.txt),\n",
    "[loops maze](loops_maze.txt),\n",
    "[empty maze](empty_maze.txt), and\n",
    "[empty 2_maze](empty_2_maze.txt).\n",
    "For each problem instance and each search algorithm, report the following in a table:\n",
    "\n",
    "* The solution and its path cost\n",
    "* Number of nodes expanded\n",
    "* Maximum tree depth\n",
    "* Maximum size of the frontier\n",
    "\n",
    "Display each solution by marking every maze square (or state) visited and the squares on the final path."
   ]
  },
  {
   "cell_type": "markdown",
   "metadata": {},
   "source": [
    "## Task 1: Defining the search problem and determining the problem size [1 point]\n",
    "\n",
    "Define the components of the search problem:\n",
    "\n",
    "* Initial state\n",
    "* Actions\n",
    "* Transition model\n",
    "* Goal state\n",
    "* Path cost\n",
    "\n",
    "Use verbal descriptions, variables and equations as appropriate. \n",
    "\n",
    "*Note:* You can swich the next block from code to Markdown and use formating."
   ]
  },
  {
   "cell_type": "markdown",
   "metadata": {},
   "source": [
    "The Inital State is the start of the maze. It is the root and nothing else. All you know is were you are starting and were you want to end. \n",
    "Actions are the directions in which you can move.\n",
    "Transition Model is the action in which you move to a new state based the on current information in your state. \n",
    "Goal State is the goal position of the maze.\n",
    "Path Cost is the total cost of the path to the goal state. "
   ]
  },
  {
   "cell_type": "markdown",
   "metadata": {},
   "source": [
    "Give some estimates for the problem size:\n",
    "\n",
    "* $n$: state space size\n",
    "* $d$: depth of the optimal solution\n",
    "* $m$: maximum depth of tree\n",
    "* $b$: maximum branching factor\n",
    "\n",
    "Describe how you would determin these values from a given maze."
   ]
  },
  {
   "cell_type": "markdown",
   "metadata": {},
   "source": []
  },
  {
   "cell_type": "markdown",
   "metadata": {},
   "source": [
    "## Task 2: Uninformed search: Breadth-first and depth-first [4 points]\n",
    "\n",
    "Implement these search strategies. Follow the pseudocode in the textbook/slides. You can use the tree structure shown above to extract the final path from your solution.\n",
    "\n",
    "__Notes:__\n",
    "* You can find maze solving implementations online that use the map to store information. While this is an effective idea for this two-dimensional navigation problem, it typically cannot be used for other search problems. Therefore, follow the textbook and only store information in the tree created during search, and use the `reached` and `frontier` data structures.\n",
    "* DSF can be implemented using the BFS tree search algorithm and simply changing the order in which the frontier is expanded (this is equivalent to best-first search with path length as the criterion to expand the next node). However, to take advantage of the significantly smaller memory footprint of DFS, you need to implement DFS in a different way without a `reached` data structure and by releasing the memory for nodes that are not needed anymore. \n",
    "* If DFS does not use a `reached` data structure, then its cycle checking abilities are limited. Remember, that DSF is incomplete if cycles cannot be prevented. You will see in your experiments that open spaces are a problem."
   ]
  },
  {
   "cell_type": "code",
   "execution_count": 384,
   "metadata": {},
   "outputs": [],
   "source": [
    "# Your code goes here\n",
    "import queue\n",
    "queue = queue.Queue()\n",
    "been_to_node = []\n",
    "actions_to_take = [\"N\", \"E\", \"S\", \"W\"]\n",
    "\n",
    "\n",
    "def expand(maze, node):\n",
    "    node_list = []\n",
    "    for direction in actions_to_take:\n",
    "        if(direction == \"N\"):\n",
    "            new_node = (node.pos[0]-1, node.pos[1])\n",
    "            if(maze[new_node] != \"X\"):\n",
    "                node1 = Node(pos=new_node, parent=node, action=\"N\", cost=1)\n",
    "                node_list.append(node1)\n",
    "        if(direction == \"E\"):\n",
    "            new_node = (node.pos[0], node.pos[1]+1)\n",
    "            if(maze[new_node] != \"X\"):\n",
    "                node2 = Node(pos=new_node, parent=node, action=\"E\", cost=1)\n",
    "                node_list.append(node2)\n",
    "        if(direction == \"S\"):\n",
    "            new_node = (node.pos[0]+1, node.pos[1])\n",
    "            if(maze[new_node] != \"X\"):\n",
    "                node3 = Node(pos=new_node, parent=node, action=\"S\", cost=1)\n",
    "                node_list.append(node3)\n",
    "        if(direction == \"W\"):\n",
    "            new_node = (node.pos[0], node.pos[1]-1)\n",
    "            if(maze[new_node] != \"X\"):\n",
    "                node4 = Node(pos = new_node , parent = node, action = \"W\", cost = 1)\n",
    "                node_list.append(node4)\n",
    "    for x in node_list:\n",
    "        if((maze[x.pos]) == \"X\"):\n",
    "            print((maze[x.pos]))\n",
    "            node_list.remove(x)\n",
    "    return node_list\n",
    "\n",
    "\n",
    "def BFS(maze):\n",
    "    expand_count = 0\n",
    "    been_to_node.clear()\n",
    "    node = Node(pos = (find_pos(maze, what = \"S\")), parent = None, action = None, cost = 0)\n",
    "    been_to_node.append(node.pos)\n",
    "    queue.put(node)  \n",
    "    if(maze[node.pos] == \"G\"):\n",
    "        return node.pos\n",
    "    else:\n",
    "        while queue:\n",
    "            get_node = queue.get()\n",
    "            neighbors = expand(maze,get_node)\n",
    "            expand_count = expand_count + 1\n",
    "            for x in neighbors:\n",
    "                if(x.pos == find_pos(maze, what = \"G\")):\n",
    "                    path = x.get_path_from_root()\n",
    "                    path_final = [n.pos for n in path]\n",
    "                    sum_of_path = sum([n.cost for n in path])\n",
    "                    return sum_of_path, expand_count\n",
    "                if(x.pos not in been_to_node):\n",
    "                    been_to_node.append(x.pos)\n",
    "                    queue.put(x)\n",
    "   \n",
    "        return \"Did Not Work!\"\n",
    "   \n",
    "   \n",
    "def DFS(maze):\n",
    "    expand_count = 0\n",
    "    node = Node(pos = (find_pos(maze, what = \"S\")), parent = None, action = None, cost = 0)\n",
    "    queue.put(node)\n",
    "    if(maze[node.pos] == \"G\"):\n",
    "        return node.pos\n",
    "    else:\n",
    "        while queue:\n",
    "            check = queue.get()\n",
    "            if(check.pos == find_pos(maze, what = \"G\")):\n",
    "                path = check.get_path_from_root()\n",
    "                path_final = [n.pos for n in path]\n",
    "                sum_of_path = sum([n.cost for n in path])\n",
    "                return sum_of_path, expand_count\n",
    "            else:\n",
    "                path = check.get_path_from_root()\n",
    "                posCheck = [n.pos for n in path]\n",
    "                neighbors = expand(maze,check)\n",
    "                expand_count = expand_count + 1\n",
    "                for x in neighbors:\n",
    "                    if(x.pos not in posCheck):\n",
    "                        queue.put(x)\n",
    "        return \"Failed\""
   ]
  },
  {
   "cell_type": "markdown",
   "metadata": {},
   "source": [
    "How does BFS and DFS deal with loops (cycles)?"
   ]
  },
  {
   "cell_type": "markdown",
   "metadata": {},
   "source": [
    "BFS deals with it by saving all the visited nodes to do get visited again. These nodes are saved in a list.\n",
    "DFS deals with loups by ensuring that anything in the stack is not reapeated. "
   ]
  },
  {
   "cell_type": "markdown",
   "metadata": {},
   "source": [
    "Are your implementations complete and optimal? Explain why. What is the time and space complexity of each of **your** implementations?"
   ]
  },
  {
   "cell_type": "markdown",
   "metadata": {},
   "source": [
    "BFS is complete and optimal. \n",
    "DFS is complete by might be optimal. This is due to it returning the first valid path it finds which might not be the optimal one. "
   ]
  },
  {
   "cell_type": "markdown",
   "metadata": {},
   "source": [
    "## Task 3: Informed search: Implement greedy best-first search and A* search  [4 points]\n",
    "\n",
    "You can use the map to estimate the distance from your current position to the goal using the Manhattan distance (see https://en.wikipedia.org/wiki/Taxicab_geometry) as a heuristic function. Both algorithms are based on Best-First search which requires only a small change from the BFS algorithm you have already implemented (see textbook/slides). "
   ]
  },
  {
   "cell_type": "markdown",
   "metadata": {},
   "source": [
    "Are your implementations complete and optimal? What is the time and space complexity?"
   ]
  },
  {
   "cell_type": "code",
   "execution_count": 394,
   "metadata": {},
   "outputs": [],
   "source": [
    "import math\n",
    "import heapq\n",
    "nodes_storage = []\n",
    "visited_nodes_GBFS = []\n",
    "\n",
    "nodes_storage.clear()\n",
    "visited_nodes_GBFS.clear()\n",
    "\n",
    "def manhatan_expaned(node, maze):\n",
    "    node_holder = []\n",
    "    for x in actions_to_take:\n",
    "        if(x == \"W\"):\n",
    "            move = (node.pos[0], node.pos[1]-1)\n",
    "            if(maze[move] != \"X\"):\n",
    "                weight_of = manhattan_distance(move, find_pos(maze,\"G\"))\n",
    "                node_h = Node(pos = move , parent = node, action = \"E\", cost = 1, weight = weight_of)\n",
    "                node_holder.append(node_h)\n",
    "        if(x == \"N\"):\n",
    "            move = (node.pos[0]-1, node.pos[1])\n",
    "            if(maze[move] != \"X\"):\n",
    "                weight_of = manhattan_distance(move, find_pos(maze,\"G\"))\n",
    "                node_h = Node(pos = move , parent = node, action = \"E\", cost = 1, weight = weight_of)\n",
    "                node_holder.append(node_h)\n",
    "        if(x == \"E\"):\n",
    "            move = (node.pos[0], node.pos[1]+1)\n",
    "            if(maze[move] != \"X\"):\n",
    "                weight_of = manhattan_distance(move, find_pos(maze,\"G\"))\n",
    "                node_h = Node(pos = move , parent = node, action = \"E\", cost = 1, weight = weight_of)\n",
    "                node_holder.append(node_h)\n",
    "        if(x == \"S\"):\n",
    "            move = (node.pos[0]+1, node.pos[1])\n",
    "            if(maze[move] != \"X\"):\n",
    "                weight_of = manhattan_distance(move, find_pos(maze,\"G\"))\n",
    "                node_h = Node(pos = move , parent = node, action = \"E\", cost = 1, weight = weight_of)\n",
    "                node_holder.append(node_h)\n",
    "    for temp in node_holder:\n",
    "        if((maze[temp.pos]) == \"X\"):\n",
    "            node_holder.remove(temp)  \n",
    "    return node_holder\n",
    "\n",
    "\n",
    "def manhattan_distance(cur, goal):\n",
    "    cur_point = [cur[0], cur[1]]\n",
    "    goal_point = [goal[0], goal[1]]\n",
    "    return sum(abs(val1-val2) for val1, val2 in zip(cur_point,goal_point))\n",
    "\n",
    "\n",
    "def Greedy_BFS(maze):\n",
    "    expand_count = 0;\n",
    "    start = (find_pos(maze, what = \"S\"))\n",
    "    goal = (find_pos(maze, what = \"G\"))\n",
    "    weight_of = manhattan_distance(start,goal)\n",
    "    node = Node(pos = (find_pos(maze, what = \"S\")), parent = None, action = None, cost = 1, weight = weight_of)\n",
    "    visited_nodes_GBFS.append(node)\n",
    "    heapq.heappush(nodes_storage,node)\n",
    "    if(maze[node.pos] == \"G\"):\n",
    "        return node.pos\n",
    "    else:\n",
    "        while nodes_storage:\n",
    "            look = heapq.heappop(nodes_storage)\n",
    "            neighbors = manhatan_expaned(look, maze)\n",
    "            expand_count = expand_count + 1\n",
    "            for x in neighbors:\n",
    "                if(x.pos == find_pos(maze, what = \"G\")):\n",
    "                    path = x.get_path_from_root()\n",
    "                    sum_path = -1\n",
    "                    for action in path:\n",
    "                        sum_path+=1\n",
    "                    return sum_path, expand_count\n",
    "                let_see = True\n",
    "                for i in range(len(visited_nodes_GBFS)):\n",
    "                    if(x.pos == visited_nodes_GBFS[i].pos):\n",
    "                        path_1 = visited_nodes_GBFS[i].get_path_from_root()\n",
    "                        path_1_cost = sum([n.cost for n in path_1])\n",
    "                        path_2 = x.get_path_from_root()\n",
    "                        path_2_cost = sum([n.cost for n in path_2])\n",
    "                        if(path_2_cost<path_1_cost):\n",
    "                            let_see = True\n",
    "                        else:\n",
    "                            let_see = False\n",
    "                if(let_see == True):\n",
    "                    visited_nodes_GBFS.append(x)\n",
    "                    heapq.heappush(nodes_storage,x)\n",
    "        return \"Will Not Work\""
   ]
  },
  {
   "cell_type": "code",
   "execution_count": 395,
   "metadata": {},
   "outputs": [],
   "source": [
    "possible_nodes = []\n",
    "visited_nodes = []\n",
    "\n",
    "possible_nodes.clear()\n",
    "visited_nodes.clear()\n",
    "\n",
    "def manhatan_distance_hy_expand(node, maze):\n",
    "    node_Holder = []\n",
    "    for act in actions_to_take:\n",
    "        if(act == \"E\"):\n",
    "            move = (node.pos[0], node.pos[1]+1)\n",
    "            if(maze[move] != \"X\"):\n",
    "                get_weight = manhattan_distance(move, find_pos(maze,\"G\"))\n",
    "                cur_node = Node(pos = move , parent = node, action = \"E\", cost = 1, weight = get_weight)\n",
    "                cur_node_Path = cur_node.get_path_from_root()\n",
    "                cur_sum_NodePath = sum([n.cost for n in cur_node_Path])\n",
    "                cur_node.weight = get_weight + cur_sum_NodePath\n",
    "                node_Holder.append(cur_node)\n",
    "        if(act == \"S\"):\n",
    "            move = (node.pos[0]+1, node.pos[1])\n",
    "            if(maze[move] != \"X\"):\n",
    "                get_weight = manhattan_distance(move, find_pos(maze,\"G\"))\n",
    "                cur_node = Node(pos = move , parent = node, action = \"S\", cost = 1, weight = get_weight)\n",
    "                cur_node_Path = cur_node.get_path_from_root()\n",
    "                cur_sum_NodePath = sum([n.cost for n in cur_node_Path])\n",
    "                cur_node.weight = get_weight + cur_sum_NodePath\n",
    "                node_Holder.append(cur_node)\n",
    "        if(act == \"W\"):\n",
    "            move = (node.pos[0], node.pos[1]-1)\n",
    "            if(maze[move] != \"X\"):\n",
    "                get_weight = manhattan_distance(move, find_pos(maze,\"G\"))\n",
    "                cur_node = Node(pos = move , parent = node, action = \"W\", cost = 1, weight = get_weight)\n",
    "                cur_node_Path = cur_node.get_path_from_root()\n",
    "                cur_sum_NodePath = sum([n.cost for n in cur_node_Path])\n",
    "                cur_node.weight = get_weight + cur_sum_NodePath\n",
    "                node_Holder.append(cur_node)\n",
    "        if(act == \"N\"):\n",
    "            move = (node.pos[0]-1, node.pos[1])\n",
    "            if(maze[move] != \"X\"):\n",
    "                get_weight = manhattan_distance(move, find_pos(maze,\"G\"))\n",
    "                cur_node = Node(pos = move , parent = node, action = \"N\", cost = 1, weight = get_weight)\n",
    "                cur_node_Path = cur_node.get_path_from_root()\n",
    "                cur_sum_NodePath = sum([n.cost for n in cur_node_Path])\n",
    "                cur_node.weight = get_weight + cur_sum_NodePath\n",
    "                node_Holder.append(cur_node)\n",
    "    for temp in node_Holder:\n",
    "        if((maze[temp.pos]) == \"X\"):\n",
    "            node_Holder.remove(temp)  \n",
    "    return node_Holder\n",
    "\n",
    "\n",
    "   \n",
    "def A_Star_alg(maze):\n",
    "    expand_count = 0\n",
    "    start = (find_pos(maze, what = \"S\"))\n",
    "    goal = (find_pos(maze, what = \"G\"))\n",
    "    w = manhattan_distacne(start,goal)\n",
    "    node = Node(pos = (find_pos(maze, what = \"S\")), parent = None, action = None, cost = 1, weight = w)\n",
    "    visited_nodes.append(node)\n",
    "    heapq.heappush(possible_nodes,node)\n",
    "    if(maze[node.pos] == \"G\"):\n",
    "        return node.pos\n",
    "    else:\n",
    "        while possible_nodes:\n",
    "            check = heapq.heappop(possible_nodes)\n",
    "            neighbors = manhatan_distance_hy_expand(check, maze)\n",
    "            expand_count = expand_count + 1\n",
    "            for x in neighbors:\n",
    "                if(x.pos == find_pos(maze, what = \"G\")):\n",
    "                    path = x.get_path_from_root()\n",
    "                    total_cost = -1\n",
    "                    for action in path:\n",
    "                        total_cost+=1\n",
    "                    return total_cost, expand_count\n",
    "                let_see = True\n",
    "                for i in range(len(visited_nodes)):\n",
    "                    if(x.pos == visited_nodes[i].pos):\n",
    "                        path_1 = visited_nodes[i].get_path_from_root()\n",
    "                        path_1_cost = sum([n.cost for n in path_1])\n",
    "                        path_2 = x.get_path_from_root()\n",
    "                        path_2_cost = sum([n.cost for n in path_2])\n",
    "                        if(path_2_cost<path_1_cost):\n",
    "                            let_see = True\n",
    "                        else:\n",
    "                            let_see = False\n",
    "                if(let_see == True):\n",
    "                    visited_nodes.append(x)\n",
    "                    heapq.heappush(possible_nodes,x)\n",
    "        return \"Did Not Work\""
   ]
  },
  {
   "cell_type": "markdown",
   "metadata": {},
   "source": [
    "## Task 4: Comparison and discussion [2 points] \n",
    "\n",
    "Run experiments to compare the implemented algorithms and present the results as tables and charts. \n",
    "\n",
    "How to deal with issues:\n",
    "\n",
    "* Your implementation returns unexpected results: Try to debug and fix the code. Visualizing the maze, the current path and the frontier after every step is very helpful. If the code still does not work, then mark the result with an asterisk (*) and describe the issue below the table.\n",
    "\n",
    "* Your implementation cannot consistently solve a specific maze and ends up in an infinite loop:\n",
    "    Debug. If it is a shortcoming of the algorithm/implementation, then put \"N/A*\" in the results table and describe why this is happening."
   ]
  },
  {
   "cell_type": "markdown",
   "metadata": {},
   "source": [
    "Time and Space Complexity \n",
    "\n",
    "BFS:\n",
    "Time Complexity = O(b^d)\n",
    "Space Complexity = O(b^d)\n",
    "\n",
    "DFS:\n",
    "Time Complexity = O(b^m)\n",
    "Space Complexity = O(b^m)\n",
    "\n",
    "GBFS:\n",
    "Depends on heuristic\n",
    "Worst Case: O(b^m)\n",
    "Best Case: O(bd)\n",
    "\n",
    "A*:\n",
    "Depends on number of Nodes with g(n)+h(n) <= C*"
   ]
  },
  {
   "cell_type": "markdown",
   "metadata": {},
   "source": [
    "Discuss the most important lessons you have learned from implementing the different search strategies. \n",
    "\n",
    "They have a unique purpose. It was hard for me to implement these at first but after some time I got the algorithum down. Each one has a different applicational purpose. "
   ]
  },
  {
   "cell_type": "code",
   "execution_count": 382,
   "metadata": {},
   "outputs": [
    {
     "data": {
      "text/plain": [
       "<Figure size 432x288 with 0 Axes>"
      ]
     },
     "metadata": {},
     "output_type": "display_data"
    }
   ],
   "source": [
    "mazes = [\"small_maze.txt\",\"medium_maze.txt\",\"large_maze.txt\",\"open_maze.txt\",\"loops_maze.txt\",\"empty_2_maze.txt\",\"wall_maze.txt\"]\n",
    "f = open(\"large_maze.txt\", \"r\")\n",
    "maze_str = f.read()\n",
    "%run maze_helper.py\n",
    "maze = parse_maze(maze_str)\n",
    "import pandas as pd\n",
    "BFS1,BFS2 = BFS(maze)\n",
    "DFS1,DFS2 = DFS(maze)\n",
    "GBS1,GBS2 = Greedy_BFS(maze)\n",
    "A1,A2 = A_Star_alg(maze)\n",
    "\n",
    "data = [['BFS',BFS1,BFS2],['DFS',DFS1,DFS2],['GBS',GBS1,GBS2],['A*',A1,A1]]\n",
    "df = pd.DataFrame(data,columns=[\"Algorithm\",\"Path Cost\",\"Nodes Expanded\"])\n",
    "\n"
   ]
  },
  {
   "cell_type": "code",
   "execution_count": 348,
   "metadata": {},
   "outputs": [
    {
     "data": {
      "image/png": "[encoded data removed]",
      "text/plain": [
       "<Figure size 432x288 with 1 Axes>"
      ]
     },
     "metadata": {
      "image/png": {
       "height": 183,
       "width": 362
      },
      "needs_background": "light"
     },
     "output_type": "display_data"
    }
   ],
   "source": [
    "#Small_Maze \n",
    "show_maze(maze)"
   ]
  },
  {
   "cell_type": "code",
   "execution_count": 349,
   "metadata": {},
   "outputs": [
    {
     "data": {
      "text/html": [
       "<div>\n",
       "<style scoped>\n",
       "    .dataframe tbody tr th:only-of-type {\n",
       "        vertical-align: middle;\n",
       "    }\n",
       "\n",
       "    .dataframe tbody tr th {\n",
       "        vertical-align: top;\n",
       "    }\n",
       "\n",
       "    .dataframe thead th {\n",
       "        text-align: right;\n",
       "    }\n",
       "</style>\n",
       "<table border=\"1\" class=\"dataframe\">\n",
       "  <thead>\n",
       "    <tr style=\"text-align: right;\">\n",
       "      <th></th>\n",
       "      <th>Algorithm</th>\n",
       "      <th>Path Cost</th>\n",
       "      <th>Nodes Expanded</th>\n",
       "    </tr>\n",
       "  </thead>\n",
       "  <tbody>\n",
       "    <tr>\n",
       "      <th>0</th>\n",
       "      <td>BFS</td>\n",
       "      <td>19</td>\n",
       "      <td>90</td>\n",
       "    </tr>\n",
       "    <tr>\n",
       "      <th>1</th>\n",
       "      <td>DFS</td>\n",
       "      <td>19</td>\n",
       "      <td>131</td>\n",
       "    </tr>\n",
       "    <tr>\n",
       "      <th>2</th>\n",
       "      <td>GBS</td>\n",
       "      <td>29</td>\n",
       "      <td>39</td>\n",
       "    </tr>\n",
       "    <tr>\n",
       "      <th>3</th>\n",
       "      <td>A*</td>\n",
       "      <td>19</td>\n",
       "      <td>19</td>\n",
       "    </tr>\n",
       "  </tbody>\n",
       "</table>\n",
       "</div>"
      ],
      "text/plain": [
       "  Algorithm  Path Cost  Nodes Expanded\n",
       "0       BFS         19              90\n",
       "1       DFS         19             131\n",
       "2       GBS         29              39\n",
       "3        A*         19              19"
      ]
     },
     "execution_count": 349,
     "metadata": {},
     "output_type": "execute_result"
    }
   ],
   "source": [
    "df"
   ]
  },
  {
   "cell_type": "code",
   "execution_count": 350,
   "metadata": {},
   "outputs": [
    {
     "data": {
      "text/plain": [
       "<Figure size 432x288 with 0 Axes>"
      ]
     },
     "metadata": {},
     "output_type": "display_data"
    }
   ],
   "source": [
    "f = open(\"medium_maze.txt\", \"r\")\n",
    "maze_str = f.read()\n",
    "%run maze_helper.py\n",
    "maze = parse_maze(maze_str)\n",
    "import pandas as pd\n",
    "BFS1,BFS2 = BFS(maze)\n",
    "DFS1,DFS2 = DFS(maze)\n",
    "GBS1,GBS2 = Greedy_BFS(maze)\n",
    "A1,A2 = A_Star_alg(maze)\n",
    "\n",
    "data = [['BFS',BFS1,BFS2],['DFS',DFS1,DFS2],['GBS',GBS1,GBS2],['A*',A1,A1]]\n",
    "df = pd.DataFrame(data,columns=[\"Algorithm\",\"Path Cost\",\"Nodes Expanded\"])"
   ]
  },
  {
   "cell_type": "code",
   "execution_count": 351,
   "metadata": {},
   "outputs": [
    {
     "data": {
      "image/png": "[encoded data removed]",
      "text/plain": [
       "<Figure size 432x288 with 1 Axes>"
      ]
     },
     "metadata": {
      "image/png": {
       "height": 198,
       "width": 380
      },
      "needs_background": "light"
     },
     "output_type": "display_data"
    }
   ],
   "source": [
    "#Medium_Maze\n",
    "show_maze(maze)"
   ]
  },
  {
   "cell_type": "code",
   "execution_count": 352,
   "metadata": {},
   "outputs": [
    {
     "data": {
      "text/html": [
       "<div>\n",
       "<style scoped>\n",
       "    .dataframe tbody tr th:only-of-type {\n",
       "        vertical-align: middle;\n",
       "    }\n",
       "\n",
       "    .dataframe tbody tr th {\n",
       "        vertical-align: top;\n",
       "    }\n",
       "\n",
       "    .dataframe thead th {\n",
       "        text-align: right;\n",
       "    }\n",
       "</style>\n",
       "<table border=\"1\" class=\"dataframe\">\n",
       "  <thead>\n",
       "    <tr style=\"text-align: right;\">\n",
       "      <th></th>\n",
       "      <th>Algorithm</th>\n",
       "      <th>Path Cost</th>\n",
       "      <th>Nodes Expanded</th>\n",
       "    </tr>\n",
       "  </thead>\n",
       "  <tbody>\n",
       "    <tr>\n",
       "      <th>0</th>\n",
       "      <td>BFS</td>\n",
       "      <td>65</td>\n",
       "      <td>283</td>\n",
       "    </tr>\n",
       "    <tr>\n",
       "      <th>1</th>\n",
       "      <td>DFS</td>\n",
       "      <td>68</td>\n",
       "      <td>813</td>\n",
       "    </tr>\n",
       "    <tr>\n",
       "      <th>2</th>\n",
       "      <td>GBS</td>\n",
       "      <td>89</td>\n",
       "      <td>93</td>\n",
       "    </tr>\n",
       "    <tr>\n",
       "      <th>3</th>\n",
       "      <td>A*</td>\n",
       "      <td>55</td>\n",
       "      <td>55</td>\n",
       "    </tr>\n",
       "  </tbody>\n",
       "</table>\n",
       "</div>"
      ],
      "text/plain": [
       "  Algorithm  Path Cost  Nodes Expanded\n",
       "0       BFS         65             283\n",
       "1       DFS         68             813\n",
       "2       GBS         89              93\n",
       "3        A*         55              55"
      ]
     },
     "execution_count": 352,
     "metadata": {},
     "output_type": "execute_result"
    }
   ],
   "source": [
    "df"
   ]
  },
  {
   "cell_type": "code",
   "execution_count": 360,
   "metadata": {},
   "outputs": [],
   "source": [
    "f = open(\"large_maze.txt\", \"r\")\n",
    "maze_str = f.read()\n",
    "%run maze_helper.py\n",
    "maze = parse_maze(maze_str)\n",
    "import pandas as pd\n",
    "BFS1,BFS2 = BFS(maze)\n",
    "DFS1,DFS2 = DFS(maze)\n",
    "GBS1,GBS2 = Greedy_BFS(maze)\n",
    "A1,A2 = A_Star_alg(maze)\n",
    "\n",
    "data = [['BFS',BFS1,BFS2],['DFS',DFS1,DFS2],['GBS',GBS1,GBS2],['A*',A1,A1]]\n",
    "df = pd.DataFrame(data,columns=[\"Algorithm\",\"Path Cost\",\"Nodes Expanded\"])"
   ]
  },
  {
   "cell_type": "code",
   "execution_count": 361,
   "metadata": {},
   "outputs": [
    {
     "data": {
      "image/png": "[encoded data removed]",
      "text/plain": [
       "<Figure size 432x288 with 1 Axes>"
      ]
     },
     "metadata": {
      "image/png": {
       "height": 249,
       "width": 251
      },
      "needs_background": "light"
     },
     "output_type": "display_data"
    }
   ],
   "source": [
    "#Large Maze\n",
    "show_maze(maze)"
   ]
  },
  {
   "cell_type": "code",
   "execution_count": 362,
   "metadata": {},
   "outputs": [
    {
     "data": {
      "text/html": [
       "<div>\n",
       "<style scoped>\n",
       "    .dataframe tbody tr th:only-of-type {\n",
       "        vertical-align: middle;\n",
       "    }\n",
       "\n",
       "    .dataframe tbody tr th {\n",
       "        vertical-align: top;\n",
       "    }\n",
       "\n",
       "    .dataframe thead th {\n",
       "        text-align: right;\n",
       "    }\n",
       "</style>\n",
       "<table border=\"1\" class=\"dataframe\">\n",
       "  <thead>\n",
       "    <tr style=\"text-align: right;\">\n",
       "      <th></th>\n",
       "      <th>Algorithm</th>\n",
       "      <th>Path Cost</th>\n",
       "      <th>Nodes Expanded</th>\n",
       "    </tr>\n",
       "  </thead>\n",
       "  <tbody>\n",
       "    <tr>\n",
       "      <th>0</th>\n",
       "      <td>BFS</td>\n",
       "      <td>210</td>\n",
       "      <td>152</td>\n",
       "    </tr>\n",
       "    <tr>\n",
       "      <th>1</th>\n",
       "      <td>DFS</td>\n",
       "      <td>210</td>\n",
       "      <td>1159</td>\n",
       "    </tr>\n",
       "    <tr>\n",
       "      <th>2</th>\n",
       "      <td>GBS</td>\n",
       "      <td>210</td>\n",
       "      <td>463</td>\n",
       "    </tr>\n",
       "    <tr>\n",
       "      <th>3</th>\n",
       "      <td>A*</td>\n",
       "      <td>210</td>\n",
       "      <td>210</td>\n",
       "    </tr>\n",
       "  </tbody>\n",
       "</table>\n",
       "</div>"
      ],
      "text/plain": [
       "  Algorithm  Path Cost  Nodes Expanded\n",
       "0       BFS        210             152\n",
       "1       DFS        210            1159\n",
       "2       GBS        210             463\n",
       "3        A*        210             210"
      ]
     },
     "execution_count": 362,
     "metadata": {},
     "output_type": "execute_result"
    }
   ],
   "source": [
    "df"
   ]
  },
  {
   "cell_type": "code",
   "execution_count": 367,
   "metadata": {},
   "outputs": [],
   "source": [
    "f = open(\"open_maze.txt\", \"r\")\n",
    "maze_str = f.read()\n",
    "%run maze_helper.py\n",
    "maze = parse_maze(maze_str)\n",
    "import pandas as pd\n",
    "BFS1,BFS2 = BFS(maze)\n",
    "DFS1,DFS2 = DFS(maze)\n",
    "GBS1,GBS2 = Greedy_BFS(maze)\n",
    "A1,A2 = A_Star_alg(maze)\n",
    "\n",
    "data = [['BFS',BFS1,BFS2],['DFS',DFS1,DFS2],['GBS',GBS1,GBS2],['A*',A1,A1]]\n",
    "df = pd.DataFrame(data,columns=[\"Algorithm\",\"Path Cost\",\"Nodes Expanded\"])"
   ]
  },
  {
   "cell_type": "code",
   "execution_count": 368,
   "metadata": {},
   "outputs": [
    {
     "data": {
      "image/png": "[encoded data removed]",
      "text/plain": [
       "<Figure size 432x288 with 1 Axes>"
      ]
     },
     "metadata": {
      "image/png": {
       "height": 239,
       "width": 369
      },
      "needs_background": "light"
     },
     "output_type": "display_data"
    }
   ],
   "source": [
    "#Open Maze\n",
    "show_maze(maze)"
   ]
  },
  {
   "cell_type": "code",
   "execution_count": 369,
   "metadata": {},
   "outputs": [
    {
     "data": {
      "text/html": [
       "<div>\n",
       "<style scoped>\n",
       "    .dataframe tbody tr th:only-of-type {\n",
       "        vertical-align: middle;\n",
       "    }\n",
       "\n",
       "    .dataframe tbody tr th {\n",
       "        vertical-align: top;\n",
       "    }\n",
       "\n",
       "    .dataframe thead th {\n",
       "        text-align: right;\n",
       "    }\n",
       "</style>\n",
       "<table border=\"1\" class=\"dataframe\">\n",
       "  <thead>\n",
       "    <tr style=\"text-align: right;\">\n",
       "      <th></th>\n",
       "      <th>Algorithm</th>\n",
       "      <th>Path Cost</th>\n",
       "      <th>Nodes Expanded</th>\n",
       "    </tr>\n",
       "  </thead>\n",
       "  <tbody>\n",
       "    <tr>\n",
       "      <th>0</th>\n",
       "      <td>BFS</td>\n",
       "      <td>54</td>\n",
       "      <td>679</td>\n",
       "    </tr>\n",
       "    <tr>\n",
       "      <th>1</th>\n",
       "      <td>DFS</td>\n",
       "      <td>54</td>\n",
       "      <td>5</td>\n",
       "    </tr>\n",
       "    <tr>\n",
       "      <th>2</th>\n",
       "      <td>GBS</td>\n",
       "      <td>68</td>\n",
       "      <td>91</td>\n",
       "    </tr>\n",
       "    <tr>\n",
       "      <th>3</th>\n",
       "      <td>A*</td>\n",
       "      <td>54</td>\n",
       "      <td>54</td>\n",
       "    </tr>\n",
       "  </tbody>\n",
       "</table>\n",
       "</div>"
      ],
      "text/plain": [
       "  Algorithm  Path Cost  Nodes Expanded\n",
       "0       BFS         54             679\n",
       "1       DFS         54               5\n",
       "2       GBS         68              91\n",
       "3        A*         54              54"
      ]
     },
     "execution_count": 369,
     "metadata": {},
     "output_type": "execute_result"
    }
   ],
   "source": [
    "df"
   ]
  },
  {
   "cell_type": "code",
   "execution_count": 376,
   "metadata": {},
   "outputs": [],
   "source": [
    "f = open(\"loops_maze.txt\", \"r\")\n",
    "maze_str = f.read()\n",
    "%run maze_helper.py\n",
    "maze = parse_maze(maze_str)\n",
    "import pandas as pd\n",
    "BFS1,BFS2 = BFS(maze)\n",
    "DFS1,DFS2 = DFS(maze)\n",
    "GBS1,GBS2 = Greedy_BFS(maze)\n",
    "A1,A2 = A_Star_alg(maze)\n",
    "\n",
    "data = [['BFS',BFS1,BFS2],['DFS',DFS1,DFS2],['GBS',GBS1,GBS2],['A*',A1,A1]]\n",
    "df = pd.DataFrame(data,columns=[\"Algorithm\",\"Path Cost\",\"Nodes Expanded\"])"
   ]
  },
  {
   "cell_type": "code",
   "execution_count": 377,
   "metadata": {},
   "outputs": [
    {
     "data": {
      "image/png": "[encoded data removed]",
      "text/plain": [
       "<Figure size 432x288 with 1 Axes>"
      ]
     },
     "metadata": {
      "image/png": {
       "height": 248,
       "width": 251
      },
      "needs_background": "light"
     },
     "output_type": "display_data"
    }
   ],
   "source": [
    "#Loup Maze\n",
    "show_maze(maze)"
   ]
  },
  {
   "cell_type": "code",
   "execution_count": 378,
   "metadata": {},
   "outputs": [
    {
     "data": {
      "text/html": [
       "<div>\n",
       "<style scoped>\n",
       "    .dataframe tbody tr th:only-of-type {\n",
       "        vertical-align: middle;\n",
       "    }\n",
       "\n",
       "    .dataframe tbody tr th {\n",
       "        vertical-align: top;\n",
       "    }\n",
       "\n",
       "    .dataframe thead th {\n",
       "        text-align: right;\n",
       "    }\n",
       "</style>\n",
       "<table border=\"1\" class=\"dataframe\">\n",
       "  <thead>\n",
       "    <tr style=\"text-align: right;\">\n",
       "      <th></th>\n",
       "      <th>Algorithm</th>\n",
       "      <th>Path Cost</th>\n",
       "      <th>Nodes Expanded</th>\n",
       "    </tr>\n",
       "  </thead>\n",
       "  <tbody>\n",
       "    <tr>\n",
       "      <th>0</th>\n",
       "      <td>BFS</td>\n",
       "      <td>23</td>\n",
       "      <td>70</td>\n",
       "    </tr>\n",
       "    <tr>\n",
       "      <th>1</th>\n",
       "      <td>DFS</td>\n",
       "      <td>23</td>\n",
       "      <td>2</td>\n",
       "    </tr>\n",
       "    <tr>\n",
       "      <th>2</th>\n",
       "      <td>GBS</td>\n",
       "      <td>23</td>\n",
       "      <td>75</td>\n",
       "    </tr>\n",
       "    <tr>\n",
       "      <th>3</th>\n",
       "      <td>A*</td>\n",
       "      <td>23</td>\n",
       "      <td>23</td>\n",
       "    </tr>\n",
       "  </tbody>\n",
       "</table>\n",
       "</div>"
      ],
      "text/plain": [
       "  Algorithm  Path Cost  Nodes Expanded\n",
       "0       BFS         23              70\n",
       "1       DFS         23               2\n",
       "2       GBS         23              75\n",
       "3        A*         23              23"
      ]
     },
     "execution_count": 378,
     "metadata": {},
     "output_type": "execute_result"
    }
   ],
   "source": [
    "df"
   ]
  },
  {
   "cell_type": "code",
   "execution_count": 387,
   "metadata": {},
   "outputs": [],
   "source": [
    "f = open(\"empty_2_maze.txt\", \"r\")\n",
    "maze_str = f.read()\n",
    "%run maze_helper.py\n",
    "maze = parse_maze(maze_str)\n",
    "import pandas as pd\n",
    "BFS1,BFS2 = BFS(maze)\n",
    "DFS1,DFS2 = DFS(maze)\n",
    "GBS1,GBS2 = Greedy_BFS(maze)\n",
    "A1,A2 = A_Star_alg(maze)\n",
    "\n",
    "data = [['BFS',BFS1,BFS2],['DFS',DFS1,DFS2],['GBS',GBS1,GBS2],['A*',A1,A1]]\n",
    "df = pd.DataFrame(data,columns=[\"Algorithm\",\"Path Cost\",\"Nodes Expanded\"])"
   ]
  },
  {
   "cell_type": "code",
   "execution_count": 388,
   "metadata": {},
   "outputs": [
    {
     "data": {
      "image/png": "[encoded data removed]",
      "text/plain": [
       "<Figure size 432x288 with 1 Axes>"
      ]
     },
     "metadata": {
      "image/png": {
       "height": 248,
       "width": 251
      },
      "needs_background": "light"
     },
     "output_type": "display_data"
    }
   ],
   "source": [
    "show_maze(maze)"
   ]
  },
  {
   "cell_type": "code",
   "execution_count": 389,
   "metadata": {},
   "outputs": [
    {
     "data": {
      "text/html": [
       "<div>\n",
       "<style scoped>\n",
       "    .dataframe tbody tr th:only-of-type {\n",
       "        vertical-align: middle;\n",
       "    }\n",
       "\n",
       "    .dataframe tbody tr th {\n",
       "        vertical-align: top;\n",
       "    }\n",
       "\n",
       "    .dataframe thead th {\n",
       "        text-align: right;\n",
       "    }\n",
       "</style>\n",
       "<table border=\"1\" class=\"dataframe\">\n",
       "  <thead>\n",
       "    <tr style=\"text-align: right;\">\n",
       "      <th></th>\n",
       "      <th>Algorithm</th>\n",
       "      <th>Path Cost</th>\n",
       "      <th>Nodes Expanded</th>\n",
       "    </tr>\n",
       "  </thead>\n",
       "  <tbody>\n",
       "    <tr>\n",
       "      <th>0</th>\n",
       "      <td>BFS</td>\n",
       "      <td>14</td>\n",
       "      <td>92</td>\n",
       "    </tr>\n",
       "    <tr>\n",
       "      <th>1</th>\n",
       "      <td>DFS</td>\n",
       "      <td>14</td>\n",
       "      <td>5</td>\n",
       "    </tr>\n",
       "    <tr>\n",
       "      <th>2</th>\n",
       "      <td>GBS</td>\n",
       "      <td>14</td>\n",
       "      <td>14</td>\n",
       "    </tr>\n",
       "    <tr>\n",
       "      <th>3</th>\n",
       "      <td>A*</td>\n",
       "      <td>14</td>\n",
       "      <td>14</td>\n",
       "    </tr>\n",
       "  </tbody>\n",
       "</table>\n",
       "</div>"
      ],
      "text/plain": [
       "  Algorithm  Path Cost  Nodes Expanded\n",
       "0       BFS         14              92\n",
       "1       DFS         14               5\n",
       "2       GBS         14              14\n",
       "3        A*         14              14"
      ]
     },
     "execution_count": 389,
     "metadata": {},
     "output_type": "execute_result"
    }
   ],
   "source": [
    "df"
   ]
  },
  {
   "cell_type": "code",
   "execution_count": 396,
   "metadata": {},
   "outputs": [
    {
     "data": {
      "text/plain": [
       "<Figure size 432x288 with 0 Axes>"
      ]
     },
     "metadata": {},
     "output_type": "display_data"
    }
   ],
   "source": [
    "f = open(\"wall_maze.txt\", \"r\")\n",
    "maze_str = f.read()\n",
    "%run maze_helper.py\n",
    "maze = parse_maze(maze_str)\n",
    "import pandas as pd\n",
    "BFS1,BFS2 = BFS(maze)\n",
    "DFS1,DFS2 = DFS(maze)\n",
    "GBS1,GBS2 = Greedy_BFS(maze)\n",
    "A1,A2 = A_Star_alg(maze)\n",
    "\n",
    "data = [['BFS',BFS1,BFS2],['DFS',DFS1,DFS2],['GBS',GBS1,GBS2],['A*',A1,A1]]\n",
    "df = pd.DataFrame(data,columns=[\"Algorithm\",\"Path Cost\",\"Nodes Expanded\"])"
   ]
  },
  {
   "cell_type": "code",
   "execution_count": 397,
   "metadata": {},
   "outputs": [
    {
     "data": {
      "image/png": "[encoded data removed]",
      "text/plain": [
       "<Figure size 432x288 with 1 Axes>"
      ]
     },
     "metadata": {
      "image/png": {
       "height": 248,
       "width": 251
      },
      "needs_background": "light"
     },
     "output_type": "display_data"
    }
   ],
   "source": [
    "show_maze(maze)"
   ]
  },
  {
   "cell_type": "code",
   "execution_count": 398,
   "metadata": {},
   "outputs": [
    {
     "data": {
      "text/html": [
       "<div>\n",
       "<style scoped>\n",
       "    .dataframe tbody tr th:only-of-type {\n",
       "        vertical-align: middle;\n",
       "    }\n",
       "\n",
       "    .dataframe tbody tr th {\n",
       "        vertical-align: top;\n",
       "    }\n",
       "\n",
       "    .dataframe thead th {\n",
       "        text-align: right;\n",
       "    }\n",
       "</style>\n",
       "<table border=\"1\" class=\"dataframe\">\n",
       "  <thead>\n",
       "    <tr style=\"text-align: right;\">\n",
       "      <th></th>\n",
       "      <th>Algorithm</th>\n",
       "      <th>Path Cost</th>\n",
       "      <th>Nodes Expanded</th>\n",
       "    </tr>\n",
       "  </thead>\n",
       "  <tbody>\n",
       "    <tr>\n",
       "      <th>0</th>\n",
       "      <td>BFS</td>\n",
       "      <td>32</td>\n",
       "      <td>78</td>\n",
       "    </tr>\n",
       "    <tr>\n",
       "      <th>1</th>\n",
       "      <td>DFS</td>\n",
       "      <td>14</td>\n",
       "      <td>222967</td>\n",
       "    </tr>\n",
       "    <tr>\n",
       "      <th>2</th>\n",
       "      <td>GBS</td>\n",
       "      <td>14</td>\n",
       "      <td>14</td>\n",
       "    </tr>\n",
       "    <tr>\n",
       "      <th>3</th>\n",
       "      <td>A*</td>\n",
       "      <td>14</td>\n",
       "      <td>14</td>\n",
       "    </tr>\n",
       "  </tbody>\n",
       "</table>\n",
       "</div>"
      ],
      "text/plain": [
       "  Algorithm  Path Cost  Nodes Expanded\n",
       "0       BFS         32              78\n",
       "1       DFS         14          222967\n",
       "2       GBS         14              14\n",
       "3        A*         14              14"
      ]
     },
     "execution_count": 398,
     "metadata": {},
     "output_type": "execute_result"
    }
   ],
   "source": [
    "df"
   ]
  },
  {
   "cell_type": "markdown",
   "metadata": {},
   "source": [
    "## Graduate student advanced task: Multiple goals [1 point]\n",
    "\n",
    "__Undergraduate students:__ This is a bonus task you can attempt if you like [+1 Bonus point].\n",
    "\n",
    "Create a few mazes with multiple goals by adding one or two more goals to the medium size maze.\n",
    "Solve the maze with your implementations for DFS, BFS, and implement in addition IDS (iterative deepening search using DFS). \n",
    "\n",
    "Run experiments to show which implementations find the optimal solution and which do not. Discuss why that is the case."
   ]
  },
  {
   "cell_type": "code",
   "execution_count": 343,
   "metadata": {},
   "outputs": [],
   "source": [
    "# Your code/answer goes here"
   ]
  },
  {
   "cell_type": "markdown",
   "metadata": {},
   "source": [
    "## More advanced tasks to think about\n",
    "\n",
    "Instead of defining each square as a state, use only intersections as states. Now the storage requirement is reduced, but the path length between two intersections can be different. If we use total path length measured as the number of squares as path cost, how can we make sure that BFS and iterative deepening search is optimal? Change the code to do so."
   ]
  },
  {
   "cell_type": "code",
   "execution_count": 344,
   "metadata": {},
   "outputs": [],
   "source": [
    "# Your code/answer goes here"
   ]
  },
  {
   "cell_type": "markdown",
   "metadata": {},
   "source": [
    "Modify your A* search to add weights (see text book) and explore how different weights influence the result."
   ]
  },
  {
   "cell_type": "code",
   "execution_count": 345,
   "metadata": {},
   "outputs": [],
   "source": [
    "# Your code/answer goes here"
   ]
  },
  {
   "cell_type": "markdown",
   "metadata": {},
   "source": [
    "What happens if the agent does not know the layout of the maze in advance (i.e., faces an unkown, only partially observable environment)? How does the environment look then (PEAS description)? How would you implement a rational agent to solve the maze? What if the agent still has a GPS device to tell the distance to the goal?"
   ]
  },
  {
   "cell_type": "code",
   "execution_count": 346,
   "metadata": {},
   "outputs": [],
   "source": [
    "# Your code/answer goes here"
   ]
  },
  {
   "cell_type": "code",
   "execution_count": null,
   "metadata": {},
   "outputs": [],
   "source": []
  },
  {
   "cell_type": "code",
   "execution_count": null,
   "metadata": {},
   "outputs": [],
   "source": []
  },
  {
   "cell_type": "code",
   "execution_count": null,
   "metadata": {},
   "outputs": [],
   "source": []
  },
  {
   "cell_type": "code",
   "execution_count": null,
   "metadata": {},
   "outputs": [],
   "source": []
  }
 ],
 "metadata": {
  "interpreter": {
   "hash": "f8815581920911e6348331e6311bcea6933cb025327c00ba4b2cc899cb908614"
  },
  "kernelspec": {
   "display_name": "Python 3.9.5 64-bit",
   "name": "python3"
  },
  "language_info": {
   "codemirror_mode": {
    "name": "ipython",
    "version": 3
   },
   "file_extension": ".py",
   "mimetype": "text/x-python",
   "name": "python",
   "nbconvert_exporter": "python",
   "pygments_lexer": "ipython3",
   "version": "3.9.5"
  }
 },
 "nbformat": 4,
 "nbformat_minor": 4
}
