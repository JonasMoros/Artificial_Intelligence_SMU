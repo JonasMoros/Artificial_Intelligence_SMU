{
 "cells": [
  {
   "cell_type": "markdown",
   "source": [
    "# Search: Solving a Maze Using a Goal-based Agent\r\n",
    "\r\n",
    "\r\n",
    "## Instructions\r\n",
    "\r\n",
    "Total Points: Undegraduates 10, graduate students 11\r\n",
    "\r\n",
    "Complete this notebook and submit it. The notebook needs to be a complete project report with \r\n",
    "\r\n",
    "* your implementation,\r\n",
    "* documentation including a short discussion of how your implementation works and your design choices, and\r\n",
    "* experimental results (e.g., tables and charts with simulation results) with a short discussion of what they mean. \r\n",
    "\r\n",
    "Use the provided notebook cells and insert additional code and markdown cells as needed.\r\n",
    "\r\n",
    "\r\n",
    "## Introduction\r\n",
    "\r\n",
    "The agent has a map of the maze it is in and the environment is assumed to be **deterministic, discrete, and known.** The agent must use the map to plan a path through the maze from the starting location $S$ to the goal location $G$.  This is a planing exercise for a goal-based agent, so you do not need to implement an environment, just use the map to search for a path. Once the plan is made, the agent in a deterministic environment (i.e., the transition function is deterministic with the outcome of each state/action pair fixed and no randomness) can just follow the path and does not need to care about the percepts.\r\n",
    "This is also called an **[open-loop system](https://en.wikipedia.org/wiki/Open-loop_controller).**\r\n",
    "The execution phase is trivial and we do not implement it in this exercise.\r\n",
    "\r\n",
    "Tree search algorithm implementations that you find online and used in general algorithms courses have often a different aim. These algorithms assume that you already have a tree in memory. We are interested in dynamically creating a search tree with the aim of finding a good/the best path from the root noteto the goal state. Follow the pseudo code presented in the text book (and replicated in the slides) closely. Ideally, we would like to search only a small part of the maze, i.e., create a search tree with as few nodes as possible. \r\n",
    "\r\n",
    "Several mazes for this exercise are stored as text files. Here is the small example maze:"
   ],
   "metadata": {}
  },
  {
   "cell_type": "code",
   "execution_count": 56,
   "source": [
    "f = open(\"small_maze.txt\", \"r\")\r\n",
    "maze_str = f.read()\r\n",
    "print(maze_str)"
   ],
   "outputs": [
    {
     "output_type": "stream",
     "name": "stdout",
     "text": [
      "XXXXXXXXXXXXXXXXXXXXXX\n",
      "X XX        X X      X\n",
      "X    XXXXXX X XXXXXX X\n",
      "XXXXXX     S  X      X\n",
      "X    X XXXXXX XX XXXXX\n",
      "X XXXX X         X   X\n",
      "X        XXX XXX   X X\n",
      "XXXXXXXXXX    XXXXXX X\n",
      "XG         XX        X\n",
      "XXXXXXXXXXXXXXXXXXXXXX\n",
      "\n"
     ]
    }
   ],
   "metadata": {}
  },
  {
   "cell_type": "markdown",
   "source": [
    "__Note:__ The mazes above contains cycles and therefore the state space may not form proper trees unless cycles are prevented. Therfore, you will need to deal with cycle detection in your code."
   ],
   "metadata": {}
  },
  {
   "cell_type": "markdown",
   "source": [
    "## Parsing and pretty printing the maze\n",
    "\n",
    "The maze can also be displayed in color using code in the file [maze_helper.py](maze_helper.py). The code parses the string representing the maze and converts it into a `numpy` 2d array which you can use in your implementation. I represent a position as a 2-tuple of the form `(row, col)`. "
   ],
   "metadata": {}
  },
  {
   "cell_type": "code",
   "execution_count": 57,
   "source": [
    "%run maze_helper.py\r\n",
    "\r\n",
    "maze = parse_maze(maze_str)\r\n",
    "\r\n",
    "# look at a position in the maze by subsetting the 2d array\r\n",
    "print(\"Position(0,0):\", maze[0, 0])\r\n",
    "\r\n",
    "# there is also a helper function called `look(maze, pos)` available\r\n",
    "# which uses a 2-tuple for the position.\r\n",
    "print(\"Position(8,1):\", look(maze, (8, 1)))"
   ],
   "outputs": [
    {
     "output_type": "stream",
     "name": "stdout",
     "text": [
      "Position(0,0): X\n",
      "Position(8,1): G\n"
     ]
    }
   ],
   "metadata": {
    "scrolled": true
   }
  },
  {
   "cell_type": "markdown",
   "source": [
    "A helper function to visualize the maze is also available."
   ],
   "metadata": {}
  },
  {
   "cell_type": "code",
   "execution_count": 58,
   "source": [
    "%matplotlib inline\r\n",
    "%config InlineBackend.figure_format = 'retina'\r\n",
    "# use higher resolution images in notebook"
   ],
   "outputs": [],
   "metadata": {}
  },
  {
   "cell_type": "markdown",
   "source": [
    "Find the position of the start and the goal using the helper function `find_pos()`"
   ],
   "metadata": {}
  },
  {
   "cell_type": "code",
   "execution_count": 59,
   "source": [
    "print(\"Start location:\", find_pos(maze, what = \"S\"))\r\n",
    "print(\"Goal location:\", find_pos(maze, what = \"G\"))"
   ],
   "outputs": [
    {
     "output_type": "stream",
     "name": "stdout",
     "text": [
      "Start location: (3, 11)\n",
      "Goal location: (8, 1)\n"
     ]
    }
   ],
   "metadata": {}
  },
  {
   "cell_type": "markdown",
   "source": [
    "## Tree structure\n",
    "\n",
    "Here is an implementation of the basic node structure for the search algorithms (see Fig 3.7 on page 73). I have added a method that extracts the path from the root node to the current node. It can be used to get the path when the search is completed."
   ],
   "metadata": {}
  },
  {
   "cell_type": "code",
   "execution_count": 60,
   "source": [
    "class Node:\r\n",
    "    def __init__(self, pos, parent, action, cost,weight=None):\r\n",
    "        self.pos = tuple(pos)    # the state; positions are (row,col)\r\n",
    "        self.parent = parent     # reference to parent node. None means root node.\r\n",
    "        self.action = action     # action used in the transition function (root node has None)\r\n",
    "        self.cost = cost         # for uniform cost this is the depth. It is also g(n) for A* search\r\n",
    "        self.weight = weight \r\n",
    "    def __str__(self):\r\n",
    "        return f\"Node - pos = {self.pos}; action = {self.action}; cost = {self.cost}\"\r\n",
    "    \r\n",
    "    def __lt__(self,other):\r\n",
    "        return self.weight < other.weight\r\n",
    "    def get_path_from_root(self):\r\n",
    "        \"\"\"returns nodes on the path from the root to the current node.\"\"\"\r\n",
    "        node = self\r\n",
    "        path = [node]\r\n",
    "    \r\n",
    "        while not node.parent is None:\r\n",
    "            node = node.parent\r\n",
    "            path.append(node)\r\n",
    "        \r\n",
    "        path.reverse()\r\n",
    "        \r\n",
    "        return(path)\r\n",
    "        \r\n",
    "    def get_position(self):\r\n",
    "        return self.pos\r\n",
    "    "
   ],
   "outputs": [],
   "metadata": {}
  },
  {
   "cell_type": "markdown",
   "source": [
    "If needed, then you can add more fields to the class.\n",
    "\n",
    "\n",
    "__Tree and memory management example:__ Create the root node and append the node for going east with a cost of 1."
   ],
   "metadata": {}
  },
  {
   "cell_type": "code",
   "execution_count": 61,
   "source": [
    "# import sys to access reference counts\r\n",
    "import sys\r\n",
    "\r\n",
    "print(\"Create root node\")\r\n",
    "root = Node(pos = (0,0), parent = None, action = None, cost = 0)\r\n",
    "print(\"root:\", root)\r\n",
    "print(\"root (reference):\", repr(root))\r\n",
    "\r\n",
    "print()\r\n",
    "print(\"Go east with cost 1 (from the parent root)\")\r\n",
    "node2 = Node(pos = (0,1), parent = root, action = \"E\", cost = 1)\r\n",
    "print(\"node2:\", node2)\r\n",
    "print(\"parent of node2: \", node2.parent)\r\n",
    "print(\"parent of node2 (reference): \", repr(node2.parent))\r\n",
    "# Note: -1 is used because passing root to getrefcount adds one reference\r\n",
    "print(\"Root is now referenced twice. Reference count for garbage collection (root node):\", sys.getrefcount(root)-1)\r\n",
    "\r\n",
    "print()\r\n",
    "print(\"Note that the root node is safe from garbage collection as long as we have also a reference in node2\") \r\n",
    "root = None\r\n",
    "print(root)\r\n",
    "print(\"parent of node2 (reference to root node): \", repr(node2.parent))\r\n",
    "print(\"Reference count for garbage collection (root node):\", sys.getrefcount(node2.parent)-1)\r\n",
    "\r\n",
    "print()\r\n",
    "print(\"Path from root to node2\")\r\n",
    "path = node2.get_path_from_root()\r\n",
    "print(\"References:\", path)\r\n",
    "print(\"Positions:\", [n.pos for n in path])\r\n",
    "print(\"Actions:\", [n.action for n in path])\r\n",
    "print(\"Cost:\", [n.cost for n in path])\r\n",
    "\r\n",
    "\r\n",
    "print()\r\n",
    "print(\"Once we delete the reference to node2, the reference count for all nodes goes to zero and the whole tree is exposed to garbage collection.\")\r\n",
    "node2 = None\r\n",
    "\r\n"
   ],
   "outputs": [
    {
     "output_type": "stream",
     "name": "stdout",
     "text": [
      "Create root node\n",
      "root: Node - pos = (0, 0); action = None; cost = 0\n",
      "root (reference): <__main__.Node object at 0x000001C10A3C0D60>\n",
      "\n",
      "Go east with cost 1 (from the parent root)\n",
      "node2: Node - pos = (0, 1); action = E; cost = 1\n",
      "parent of node2:  Node - pos = (0, 0); action = None; cost = 0\n",
      "parent of node2 (reference):  <__main__.Node object at 0x000001C10A3C0D60>\n",
      "Root is now referenced twice. Reference count for garbage collection (root node): 2\n",
      "\n",
      "Note that the root node is safe from garbage collection as long as we have also a reference in node2\n",
      "None\n",
      "parent of node2 (reference to root node):  <__main__.Node object at 0x000001C10A3C0D60>\n",
      "Reference count for garbage collection (root node): 1\n",
      "\n",
      "Path from root to node2\n",
      "References: [<__main__.Node object at 0x000001C10A3C0D60>, <__main__.Node object at 0x000001C10A3E3EE0>]\n",
      "Positions: [(0, 0), (0, 1)]\n",
      "Actions: [None, 'E']\n",
      "Cost: [0, 1]\n",
      "\n",
      "Once we delete the reference to node2, the reference count for all nodes goes to zero and the whole tree is exposed to garbage collection.\n"
     ]
    }
   ],
   "metadata": {}
  },
  {
   "cell_type": "markdown",
   "source": [
    "# Goal\r\n",
    "Implement the following search algorithms for solving different mazes:\r\n",
    "\r\n",
    "* Breadth-first search (BFS)\r\n",
    "* Depth-first search (DFS)\r\n",
    "* Greedy best-first search (GBFS)\r\n",
    "* A* search\r\n",
    "\r\n",
    "Run each of the above algorithms on the \r\n",
    "[small maze](small_maze.txt), \r\n",
    "[medium maze](medium_maze.txt), \r\n",
    "[large maze](large_maze.txt), \r\n",
    "[open maze](open_maze.txt),\r\n",
    "[wall maze](wall_maze.txt),\r\n",
    "[loops maze](loops_maze.txt),\r\n",
    "[empty maze](empty_maze.txt), and\r\n",
    "[empty 2_maze](empty_2_maze.txt).\r\n",
    "For each problem instance and each search algorithm, report the following in a table:\r\n",
    "\r\n",
    "* The solution and its path cost\r\n",
    "* Number of nodes expanded\r\n",
    "* Maximum tree depth\r\n",
    "* Maximum size of the frontier\r\n",
    "\r\n",
    "Display each solution by marking every maze square (or state) visited and the squares on the final path."
   ],
   "metadata": {}
  },
  {
   "cell_type": "markdown",
   "source": [
    "## Task 1: Defining the search problem and determining the problem size [1 point]\r\n",
    "\r\n",
    "Define the components of the search problem:\r\n",
    "\r\n",
    "* Initial state\r\n",
    "* Actions\r\n",
    "* Transition model\r\n",
    "* Goal state\r\n",
    "* Path cost\r\n",
    "\r\n",
    "Use verbal descriptions, variables and equations as appropriate. \r\n",
    "\r\n",
    "*Note:* You can swich the next block from code to Markdown and use formating."
   ],
   "metadata": {}
  },
  {
   "cell_type": "markdown",
   "source": [
    "The Inital State is the start of the maze. It is the root and nothing else. All you know is were you are starting and were you want to end. \r\n",
    "Actions are the directions in which you can move.\r\n",
    "Transition Model is the action in which you move to a new state based the on current information in your state. \r\n",
    "Goal State is the goal position of the maze.\r\n",
    "Path Cost is the total cost of the path to the goal state. "
   ],
   "metadata": {}
  },
  {
   "cell_type": "markdown",
   "source": [
    "Give some estimates for the problem size:\n",
    "\n",
    "* $n$: state space size\n",
    "* $d$: depth of the optimal solution\n",
    "* $m$: maximum depth of tree\n",
    "* $b$: maximum branching factor\n",
    "\n",
    "Describe how you would determin these values from a given maze."
   ],
   "metadata": {}
  },
  {
   "cell_type": "markdown",
   "source": [],
   "metadata": {}
  },
  {
   "cell_type": "markdown",
   "source": [
    "## Task 2: Uninformed search: Breadth-first and depth-first [4 points]\n",
    "\n",
    "Implement these search strategies. Follow the pseudocode in the textbook/slides. You can use the tree structure shown above to extract the final path from your solution.\n",
    "\n",
    "__Notes:__\n",
    "* You can find maze solving implementations online that use the map to store information. While this is an effective idea for this two-dimensional navigation problem, it typically cannot be used for other search problems. Therefore, follow the textbook and only store information in the tree created during search, and use the `reached` and `frontier` data structures.\n",
    "* DSF can be implemented using the BFS tree search algorithm and simply changing the order in which the frontier is expanded (this is equivalent to best-first search with path length as the criterion to expand the next node). However, to take advantage of the significantly smaller memory footprint of DFS, you need to implement DFS in a different way without a `reached` data structure and by releasing the memory for nodes that are not needed anymore. \n",
    "* If DFS does not use a `reached` data structure, then its cycle checking abilities are limited. Remember, that DSF is incomplete if cycles cannot be prevented. You will see in your experiments that open spaces are a problem."
   ],
   "metadata": {}
  },
  {
   "cell_type": "code",
   "execution_count": 63,
   "source": [
    "# Your code goes here\r\n",
    "import queue\r\n",
    "queue = queue.Queue()\r\n",
    "visited_nodes = []\r\n",
    "actions_to_take = [\"N\", \"E\", \"S\", \"W\"]\r\n",
    "\r\n",
    "\r\n",
    "def expand(maze, node):\r\n",
    "    tempNode = []\r\n",
    "    for direction in actions_to_take:\r\n",
    "        if(direction == \"N\"):\r\n",
    "            new_node = (node.pos[0]-1, node.pos[1])\r\n",
    "            if(maze[new_node] != \"X\"):\r\n",
    "                node1 = Node(pos=new_node, parent=node, action=\"N\", cost=1)\r\n",
    "                tempNode.append(node1)\r\n",
    "        if(direction == \"E\"):\r\n",
    "            new_node = (node.pos[0], node.pos[1]+1)\r\n",
    "            if(maze[new_node] != \"X\"):\r\n",
    "                node2 = Node(pos=new_node, parent=node, action=\"E\", cost=1)\r\n",
    "                tempNode.append(node2)\r\n",
    "        if(direction == \"S\"):\r\n",
    "            new_node = (node.pos[0]+1, node.pos[1])\r\n",
    "            if(maze[new_node] != \"X\"):\r\n",
    "                node3 = Node(pos=new_node, parent=node, action=\"S\", cost=1)\r\n",
    "                tempNode.append(node3)\r\n",
    "        if(direction == \"W\"):\r\n",
    "            new_node = (node.pos[0], node.pos[1]-1)\r\n",
    "            if(maze[new_node] != \"X\"):\r\n",
    "                node4 = Node(pos = new_node , parent = node, action = \"W\", cost = 1)\r\n",
    "                tempNode.append(node4)\r\n",
    "    for x in tempNode:\r\n",
    "        if((maze[x.pos]) == \"X\"):\r\n",
    "            print((maze[x.pos]))\r\n",
    "            tempNode.remove(x)\r\n",
    "    return tempNode\r\n",
    "\r\n",
    "\r\n",
    "def BFS(maze):\r\n",
    "    visited_nodes.clear()\r\n",
    "    node = Node(pos = (find_pos(maze, what = \"S\")), parent = None, action = None, cost = 0)\r\n",
    "    visited_nodes.append(node.pos)\r\n",
    "    queue.put(node)  \r\n",
    "    if(maze[node.pos] == \"G\"):\r\n",
    "        return node.pos\r\n",
    "    else:\r\n",
    "        while queue:\r\n",
    "            check = queue.get()\r\n",
    "            print(check)\r\n",
    "            neighbors = expand(maze,check)\r\n",
    "            for x in neighbors:\r\n",
    "                if(x.pos == find_pos(maze, what = \"G\")):\r\n",
    "                    path = x.get_path_from_root()\r\n",
    "                    path1 = [n.pos for n in path]\r\n",
    "                    print(\"Positions:\", [n.pos for n in path])\r\n",
    "                    print(\"Actions:\", [n.action for n in path])\r\n",
    "                    sum1 = sum([n.cost for n in path])\r\n",
    "                    print(\"This took: \" + str(sum1) + \" steps\")\r\n",
    "                    # show_maze(maze,path1)\r\n",
    "                    return x.pos\r\n",
    "                if(x.pos not in visited_nodes):\r\n",
    "                    visited_nodes.append(x.pos)\r\n",
    "                    queue.put(x)\r\n",
    "   \r\n",
    "        return \"Failed\"\r\n",
    "   \r\n",
    "   \r\n",
    "def DFS(maze):\r\n",
    "    node = Node(pos = (find_pos(maze, what = \"S\")), parent = None, action = None, cost = 0)\r\n",
    "    queue.put(node)\r\n",
    "    if(maze[node.pos] == \"G\"):\r\n",
    "        return node.pos\r\n",
    "    else:\r\n",
    "        while queue:\r\n",
    "            check = queue.get()\r\n",
    "            print(check)\r\n",
    "            if(check.pos == find_pos(maze, what = \"G\")):\r\n",
    "                path = check.get_path_from_root()\r\n",
    "                path1 = [n.pos for n in path]\r\n",
    "                sum1 = sum([n.cost for n in path])\r\n",
    "                print(\"Total Of: \" + str(sum1) + \" steps\")\r\n",
    "                # show_maze(maze,path1)\r\n",
    "                return check.pos\r\n",
    "            else:\r\n",
    "                path = check.get_path_from_root()\r\n",
    "                posCheck = [n.pos for n in path]\r\n",
    "                neighbors = expand(maze,check)\r\n",
    "                for x in neighbors:\r\n",
    "                    if(x.pos not in posCheck):\r\n",
    "                        queue.put(x)\r\n",
    "               \r\n",
    "        return \"Failed\""
   ],
   "outputs": [],
   "metadata": {}
  },
  {
   "cell_type": "markdown",
   "source": [
    "How does BFS and DFS deal with loops (cycles)?"
   ],
   "metadata": {}
  },
  {
   "cell_type": "markdown",
   "source": [
    "BFS deals with it by saving all the visited nodes to do get visited again. These nodes are saved in a list.\r\n",
    "DFS deals with loups by ensuring that anything in the stack is not reapeated. "
   ],
   "metadata": {}
  },
  {
   "cell_type": "markdown",
   "source": [
    "Are your implementations complete and optimal? Explain why. What is the time and space complexity of each of **your** implementations?"
   ],
   "metadata": {}
  },
  {
   "cell_type": "markdown",
   "source": [
    "BFS is complete and optimal. \r\n",
    "DFS is complete by might be optimal. This is due to it returning the first valid path it finds which might not be the optimal one. "
   ],
   "metadata": {}
  },
  {
   "cell_type": "markdown",
   "source": [
    "## Task 3: Informed search: Implement greedy best-first search and A* search  [4 points]\n",
    "\n",
    "You can use the map to estimate the distance from your current position to the goal using the Manhattan distance (see https://en.wikipedia.org/wiki/Taxicab_geometry) as a heuristic function. Both algorithms are based on Best-First search which requires only a small change from the BFS algorithm you have already implemented (see textbook/slides). "
   ],
   "metadata": {}
  },
  {
   "cell_type": "code",
   "execution_count": 66,
   "source": [
    "# Your code goes here\r\n",
    "import math\r\n",
    "import heapq\r\n",
    "frontier = []\r\n",
    "\r\n",
    "visited = []\r\n",
    "\r\n",
    "def expand2(node, maze):\r\n",
    "    tempNodes = []\r\n",
    "    finalNodes = []\r\n",
    "    s = node.pos\r\n",
    "    for act in actions:\r\n",
    "        if(act == \"E\"):\r\n",
    "            new = (node.pos[0], node.pos[1]+1)\r\n",
    "            if(maze[new] != \"X\"):\r\n",
    "                w1 = manhattan(new, find_pos(maze,\"G\"))\r\n",
    "                node2 = Node(pos = new , parent = node, action = \"E\", cost = 1, weight = w1)\r\n",
    "                tempNodes.append(node2)\r\n",
    "        if(act == \"S\"):\r\n",
    "            new = (node.pos[0]+1, node.pos[1])\r\n",
    "            if(maze[new] != \"X\"):\r\n",
    "                w2 = manhattan(new, find_pos(maze,\"G\"))\r\n",
    "                node3 = Node(pos = new , parent = node, action = \"S\", cost = 1, weight = w2)\r\n",
    "                tempNodes.append(node3)\r\n",
    "        if(act == \"W\"):\r\n",
    "            new = (node.pos[0], node.pos[1]-1)\r\n",
    "            if(maze[new] != \"X\"):\r\n",
    "                w3 = manhattan(new, find_pos(maze,\"G\"))\r\n",
    "                node4 = Node(pos = new , parent = node, action = \"W\", cost = 1, weight = w3)\r\n",
    "                tempNodes.append(node4)\r\n",
    "        if(act == \"N\"):\r\n",
    "            new = (node.pos[0]-1, node.pos[1])\r\n",
    "            if(maze[new] != \"X\"):\r\n",
    "                w4 = manhattan(new, find_pos(maze,\"G\"))\r\n",
    "                node5 = Node(pos = new , parent = node, action = \"N\", cost = 1, weight = w4)\r\n",
    "                tempNodes.append(node5)\r\n",
    "    for temp in tempNodes:\r\n",
    "        if((maze[temp.pos]) == \"X\"):\r\n",
    "            print((maze[temp.pos]))\r\n",
    "            tempNodes.remove(temp)  \r\n",
    "    return tempNodes\r\n",
    "\r\n",
    "def expand3(node, maze):\r\n",
    "    tempNodes = []\r\n",
    "    finalNodes = []\r\n",
    "    s = node.pos\r\n",
    "    for act in actions_to_take:\r\n",
    "        if(act == \"E\"):\r\n",
    "            new = (node.pos[0], node.pos[1]+1)\r\n",
    "            if(maze[new] != \"X\"):\r\n",
    "                w1 = manhattan(new, find_pos(maze,\"G\"))\r\n",
    "                node2 = Node(pos = new , parent = node, action = \"E\", cost = 1, weight = w1)\r\n",
    "                nodePath = node2.get_path_from_root()\r\n",
    "                nodePathsum = sum([n.cost for n in nodePath])\r\n",
    "                node2.weight = w1 + nodePathsum\r\n",
    "                tempNodes.append(node2)\r\n",
    "        if(act == \"S\"):\r\n",
    "            new = (node.pos[0]+1, node.pos[1])\r\n",
    "            if(maze[new] != \"X\"):\r\n",
    "                w2 = manhattan(new, find_pos(maze,\"G\"))\r\n",
    "                node3 = Node(pos = new , parent = node, action = \"S\", cost = 1, weight = w2)\r\n",
    "                nodePath = node3.get_path_from_root()\r\n",
    "                nodePathsum = sum([n.cost for n in nodePath])\r\n",
    "                node3.weight = w2 + nodePathsum\r\n",
    "                tempNodes.append(node3)\r\n",
    "        if(act == \"W\"):\r\n",
    "            new = (node.pos[0], node.pos[1]-1)\r\n",
    "            if(maze[new] != \"X\"):\r\n",
    "                w3 = manhattan(new, find_pos(maze,\"G\"))\r\n",
    "                node4 = Node(pos = new , parent = node, action = \"W\", cost = 1, weight = w3)\r\n",
    "                nodePath = node4.get_path_from_root()\r\n",
    "                nodePathsum = sum([n.cost for n in nodePath])\r\n",
    "                node4.weight = w3 + nodePathsum\r\n",
    "                tempNodes.append(node4)\r\n",
    "        if(act == \"N\"):\r\n",
    "            new = (node.pos[0]-1, node.pos[1])\r\n",
    "            if(maze[new] != \"X\"):\r\n",
    "                w4 = manhattan(new, find_pos(maze,\"G\"))\r\n",
    "                node5 = Node(pos = new , parent = node, action = \"N\", cost = 1, weight = w4)\r\n",
    "                nodePath = node5.get_path_from_root()\r\n",
    "                nodePathsum = sum([n.cost for n in nodePath])\r\n",
    "                node5.weight = w4 + nodePathsum\r\n",
    "                tempNodes.append(node5)\r\n",
    "   \r\n",
    "    for temp in tempNodes:\r\n",
    "        if((maze[temp.pos]) == \"X\"):\r\n",
    "            print((maze[temp.pos]))\r\n",
    "            tempNodes.remove(temp)  \r\n",
    "           \r\n",
    "    return tempNodes\r\n",
    "\r\n",
    "\r\n",
    "def manhattan(currPos, goalPos):\r\n",
    "    a = [currPos[0], currPos[1]]\r\n",
    "    b = [goalPos[0], goalPos[1]]\r\n",
    "    return sum(abs(val1-val2) for val1, val2 in zip(a,b))\r\n",
    "   \r\n",
    "\r\n",
    "\r\n",
    "def GBFS(maze):\r\n",
    "    start = (find_pos(maze, what = \"S\"))\r\n",
    "    goal = (find_pos(maze, what = \"G\"))\r\n",
    "    w = manhattan(start,goal)\r\n",
    "    node = Node(pos = (find_pos(maze, what = \"S\")), parent = None, action = None, cost = 1, weight = w)\r\n",
    "    visited.append(node)\r\n",
    "    heapq.heappush(frontier,node)\r\n",
    "    if(maze[node.pos] == \"G\"):\r\n",
    "        return node.pos\r\n",
    "    else:\r\n",
    "        while frontier:\r\n",
    "            check = heapq.heappop(frontier)\r\n",
    "            neighbors = expand2(check, maze)\r\n",
    "            for x in neighbors:\r\n",
    "                if(x.pos == find_pos(maze, what = \"G\")):\r\n",
    "                    path = x.get_path_from_root()\r\n",
    "                    path1 = [n.pos for n in path]\r\n",
    "                    print(\"Positions:\", [n.pos for n in path])\r\n",
    "                    print(\"Actions:\", [n.action for n in path])\r\n",
    "                    sum1 = [n.action for n in path]\r\n",
    "                    z = -1\r\n",
    "                    for action in path:\r\n",
    "                        z+=1\r\n",
    "                    print(\"This took: \" + str(z) + \" steps\")\r\n",
    "                    # show_maze(maze, path1)\r\n",
    "                    return x.pos\r\n",
    "                checker = True\r\n",
    "                for i in range(len(visited)):\r\n",
    "                    if(x.pos == visited[i].pos):\r\n",
    "                        p = visited[i].get_path_from_root()\r\n",
    "                        oldCost = sum([n.cost for n in p])\r\n",
    "                        print(\"visited\")\r\n",
    "                        print(visited[i].pos)\r\n",
    "                        print(oldCost)\r\n",
    "                        p2 = x.get_path_from_root()\r\n",
    "                        newCost = sum([n.cost for n in p2])\r\n",
    "                        print(\"new node\")\r\n",
    "                        print(x.pos)\r\n",
    "                        print(newCost)\r\n",
    "                        if(newCost<oldCost):\r\n",
    "                            checker = True\r\n",
    "                        else:\r\n",
    "                            checker = False\r\n",
    "                if(checker == True):\r\n",
    "                    visited.append(x)\r\n",
    "                    heapq.heappush(frontier,x)\r\n",
    "                   \r\n",
    "        print(\"failed\")\r\n",
    "        return \"failed\"\r\n",
    "   \r\n",
    "def Astar(maze):\r\n",
    "    start = (find_pos(maze, what = \"S\"))\r\n",
    "    goal = (find_pos(maze, what = \"G\"))\r\n",
    "    w = manhattan(start,goal)\r\n",
    "    node = Node(pos = (find_pos(maze, what = \"S\")), parent = None, action = None, cost = 1, weight = w)\r\n",
    "    visited.append(node)\r\n",
    "    heapq.heappush(frontier,node)\r\n",
    "    if(maze[node.pos] == \"G\"):\r\n",
    "        return node.pos\r\n",
    "    else:\r\n",
    "        while frontier:\r\n",
    "            check = heapq.heappop(frontier)\r\n",
    "            neighbors = expand3(check, maze)\r\n",
    "            for x in neighbors:\r\n",
    "                if(x.pos == find_pos(maze, what = \"G\")):\r\n",
    "                    path = x.get_path_from_root()\r\n",
    "                    path1 = [n.pos for n in path]\r\n",
    "                    print(\"Positions:\", [n.pos for n in path])\r\n",
    "                    sum1 = [n.action for n in path]\r\n",
    "                    z = -1\r\n",
    "                    for action in path:\r\n",
    "                        z+=1\r\n",
    "                    print(\"This took: \" + str(z) + \" steps\")\r\n",
    "                    # show_maze(maze, path1)\r\n",
    "                    return x.pos\r\n",
    "                checker = True\r\n",
    "                for i in range(len(visited)):\r\n",
    "                    if(x.pos == visited[i].pos):\r\n",
    "                        p = visited[i].get_path_from_root()\r\n",
    "                        oldCost = sum([n.cost for n in p])\r\n",
    "                        p2 = x.get_path_from_root()\r\n",
    "                        newCost = sum([n.cost for n in p2])\r\n",
    "                        if(newCost<oldCost):\r\n",
    "                            checker = True\r\n",
    "                        else:\r\n",
    "                            checker = False\r\n",
    "                if(checker == True):\r\n",
    "                    visited.append(x)\r\n",
    "                    heapq.heappush(frontier,x)\r\n",
    "                   \r\n",
    "        print(\"failed\")\r\n",
    "        return \"failed\"\r\n",
    "   \r\n",
    "\r\n",
    "Astar(maze)\r\n"
   ],
   "outputs": [
    {
     "output_type": "stream",
     "name": "stdout",
     "text": [
      "Positions: [(3, 11), (3, 12), (3, 13), (4, 13), (5, 13), (5, 12), (6, 12), (7, 12), (7, 11), (7, 10), (8, 10), (8, 9), (8, 8), (8, 7), (8, 6), (8, 5), (8, 4), (8, 3), (8, 2), (8, 1)]\n",
      "This took: 19 steps\n"
     ]
    },
    {
     "output_type": "execute_result",
     "data": {
      "text/plain": [
       "(8, 1)"
      ]
     },
     "metadata": {},
     "execution_count": 66
    }
   ],
   "metadata": {}
  },
  {
   "cell_type": "markdown",
   "source": [
    "Are your implementations complete and optimal? What is the time and space complexity?"
   ],
   "metadata": {}
  },
  {
   "cell_type": "code",
   "execution_count": null,
   "source": [
    "# Discussion\r\n"
   ],
   "outputs": [],
   "metadata": {}
  },
  {
   "cell_type": "markdown",
   "source": [
    "## Task 4: Comparison and discussion [2 points] \n",
    "\n",
    "Run experiments to compare the implemented algorithms and present the results as tables and charts. \n",
    "\n",
    "How to deal with issues:\n",
    "\n",
    "* Your implementation returns unexpected results: Try to debug and fix the code. Visualizing the maze, the current path and the frontier after every step is very helpful. If the code still does not work, then mark the result with an asterisk (*) and describe the issue below the table.\n",
    "\n",
    "* Your implementation cannot consistently solve a specific maze and ends up in an infinite loop:\n",
    "    Debug. If it is a shortcoming of the algorithm/implementation, then put \"N/A*\" in the results table and describe why this is happening."
   ],
   "metadata": {}
  },
  {
   "cell_type": "code",
   "execution_count": null,
   "source": [
    "# Add code, table, charts."
   ],
   "outputs": [],
   "metadata": {}
  },
  {
   "cell_type": "markdown",
   "source": [
    "Complete the following table for each maze.\r\n",
    "\r\n",
    "__Small maze__\r\n",
    "\r\n",
    "| algorithm | path cost | nodes expanded | max tree depth | max tree size | max frontier size |\r\n",
    "|-----------|-----------|----------------|----------------|---------------|-------------------|\r\n",
    "| BFS       |           |                |                |               |                   |\r\n",
    "| DFS       |           |                |                |               |                   |\r\n",
    "| GBS       |           |                |                |               |                   |\r\n",
    "| A*        |           |                |                |               |                   |\r\n",
    "\r\n",
    "__Medium Maze__\r\n",
    "\r\n",
    "..."
   ],
   "metadata": {}
  },
  {
   "cell_type": "markdown",
   "source": [
    "Discuss the most important lessons you have learned from implementing the different search strategies. "
   ],
   "metadata": {}
  },
  {
   "cell_type": "code",
   "execution_count": null,
   "source": [
    "# Add discussion\r\n",
    "import pandas as pd\r\n",
    "mazes = [\"small_maze.txt\",\"medium_maze.txt\",\"large_maze.txt\",\"open_maze.txt\",\"loops_maze.txt\",\"empty_2_maze.txt\",\"wall_maze.txt\"]\r\n",
    "\r\n",
    "BFS = []\r\n",
    "DFW = []\r\n",
    "GBS = []\r\n",
    "A = []\r\n",
    "\r\n",
    "Astar(maze)"
   ],
   "outputs": [],
   "metadata": {}
  },
  {
   "cell_type": "markdown",
   "source": [
    "## Graduate student advanced task: Multiple goals [1 point]\n",
    "\n",
    "__Undergraduate students:__ This is a bonus task you can attempt if you like [+1 Bonus point].\n",
    "\n",
    "Create a few mazes with multiple goals by adding one or two more goals to the medium size maze.\n",
    "Solve the maze with your implementations for DFS, BFS, and implement in addition IDS (iterative deepening search using DFS). \n",
    "\n",
    "Run experiments to show which implementations find the optimal solution and which do not. Discuss why that is the case."
   ],
   "metadata": {}
  },
  {
   "cell_type": "code",
   "execution_count": null,
   "source": [
    "# Your code/answer goes here"
   ],
   "outputs": [],
   "metadata": {}
  },
  {
   "cell_type": "markdown",
   "source": [
    "## More advanced tasks to think about\n",
    "\n",
    "Instead of defining each square as a state, use only intersections as states. Now the storage requirement is reduced, but the path length between two intersections can be different. If we use total path length measured as the number of squares as path cost, how can we make sure that BFS and iterative deepening search is optimal? Change the code to do so."
   ],
   "metadata": {}
  },
  {
   "cell_type": "code",
   "execution_count": null,
   "source": [
    "# Your code/answer goes here"
   ],
   "outputs": [],
   "metadata": {}
  },
  {
   "cell_type": "markdown",
   "source": [
    "Modify your A* search to add weights (see text book) and explore how different weights influence the result."
   ],
   "metadata": {}
  },
  {
   "cell_type": "code",
   "execution_count": null,
   "source": [
    "# Your code/answer goes here"
   ],
   "outputs": [],
   "metadata": {}
  },
  {
   "cell_type": "markdown",
   "source": [
    "What happens if the agent does not know the layout of the maze in advance (i.e., faces an unkown, only partially observable environment)? How does the environment look then (PEAS description)? How would you implement a rational agent to solve the maze? What if the agent still has a GPS device to tell the distance to the goal?"
   ],
   "metadata": {}
  },
  {
   "cell_type": "code",
   "execution_count": null,
   "source": [
    "# Your code/answer goes here"
   ],
   "outputs": [],
   "metadata": {}
  },
  {
   "cell_type": "code",
   "execution_count": null,
   "source": [],
   "outputs": [],
   "metadata": {}
  },
  {
   "cell_type": "code",
   "execution_count": null,
   "source": [],
   "outputs": [],
   "metadata": {}
  },
  {
   "cell_type": "code",
   "execution_count": null,
   "source": [],
   "outputs": [],
   "metadata": {}
  },
  {
   "cell_type": "code",
   "execution_count": null,
   "source": [],
   "outputs": [],
   "metadata": {}
  }
 ],
 "metadata": {
  "kernelspec": {
   "name": "python3",
   "display_name": "Python 3.9.5 64-bit"
  },
  "language_info": {
   "codemirror_mode": {
    "name": "ipython",
    "version": 3
   },
   "file_extension": ".py",
   "mimetype": "text/x-python",
   "name": "python",
   "nbconvert_exporter": "python",
   "pygments_lexer": "ipython3",
   "version": "3.9.5"
  },
  "interpreter": {
   "hash": "f8815581920911e6348331e6311bcea6933cb025327c00ba4b2cc899cb908614"
  }
 },
 "nbformat": 4,
 "nbformat_minor": 4
}