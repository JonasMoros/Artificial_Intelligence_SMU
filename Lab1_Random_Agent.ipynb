{
 "cells": [
  {
   "cell_type": "markdown",
   "source": [
    "# Intelligent Agents: Reflex Agents for the Vacuum-cleaner World\n",
    "\n",
    "\n",
    "## Instructions\n",
    "\n",
    "Total Points: undergrad 10, graduate students 11\n",
    "\n",
    "Complete this notebook and submit it. The notebook needs to be a complete project report with \n",
    "\n",
    "* your implementation (you can use libraries like math, numpy, scipy, but not libraries that implement inteligent agents or search algorithms),\n",
    "* documentation including a short discussion of how your implementation works and your design choices, and\n",
    "* experimental results (e.g., tables and charts with simulation results) with a short discussion of what they mean. \n",
    "\n",
    "Use the provided notebook cells and insert additional code and markdown cells as needed.\n",
    "\n",
    "## Introduction\n",
    "\n",
    "In this assignment you will implement a simulator environment for an automatic vacuum cleaner robot, a set of different reflex agent programs, and perform a comparison study for cleaning a single room. Focus on the __cleaning phase__ which starts when the robot is activated and ends when the last dirty square is cleaned. Someone else will take care of the agent program needed to navigate back to the charging station after the room is clean.\n",
    "\n",
    "## PEAS description of the cleaning phase\n",
    "\n",
    "__Performance Measure:__ Each action costs 1 energy unit. The performance is measured as the sum of the energy units used to clean the whole room.\n",
    "\n",
    "__Environment:__ A room with $n \\times n$ squares where $n = 5$. Dirt is randomly placed on each square with probability $p = 0.2$. For simplicity, you can assume that the agent knows the size and the layout of the room (i.e., it knows $n$). To start, the agent is placed on a random square.\n",
    "\n",
    "__Actuators:__ The agent can clean the current square (action `suck`) or move to an adjacent square by going `north`, `east`, `south`, or `west`.\n",
    "\n",
    "__Sensors:__ Four bumper sensors, one for north, east, south, and west; a dirt sensor reporting dirt in the current square.  \n",
    "\n",
    "\n",
    "## The agent program for a simple randomized agent\n",
    "\n",
    "The agent program is a function that gets sensor information (the current percepts) as the arguments. The arguments are:\n",
    "\n",
    "* A dictionary with boolean entries for the for bumper sensors `north`, `east`, `west`, `south`. E.g., if the agent is on the north-west corner, `bumpers` will be `{\"north\" : True, \"east\" : False, \"south\" : False, \"west\" : True}`.\n",
    "* The dirt sensor produces a boolean.\n",
    "\n",
    "The agent returns the chosen action as a string.\n",
    "\n",
    "Here is an example implementation for the agent program of a simple randomized agent:  "
   ],
   "metadata": {}
  },
  {
   "cell_type": "code",
   "execution_count": 1451,
   "source": [
    "import numpy as np\r\n",
    "import collections\r\n",
    "\r\n",
    "actions = [\"north\", \"east\", \"west\", \"south\", \"suck\"]\r\n",
    "\r\n",
    "def simple_randomized_agent(bumpers, dirty):\r\n",
    "    return np.random.choice(actions)"
   ],
   "outputs": [],
   "metadata": {}
  },
  {
   "cell_type": "code",
   "execution_count": 1452,
   "source": [
    "# define percepts (current location is NW corner and it is dirty)\r\n",
    "bumpers = {\"north\" : True, \"east\" : False, \"south\" : False, \"west\" : True}\r\n",
    "dirty = True\r\n",
    "\r\n",
    "# call agent program function with percepts and it returns an action\r\n",
    "simple_randomized_agent(bumpers, dirty)"
   ],
   "outputs": [
    {
     "output_type": "execute_result",
     "data": {
      "text/plain": [
       "'suck'"
      ]
     },
     "metadata": {},
     "execution_count": 1452
    }
   ],
   "metadata": {}
  },
  {
   "cell_type": "markdown",
   "source": [
    "__Note:__ This is not a rational intelligent agent. It ignores its sensors and may bump into a wall repeatedly or not clean a dirty square. You will be asked to implement rational agents below."
   ],
   "metadata": {}
  },
  {
   "cell_type": "markdown",
   "source": [
    "## Simple environment example\n",
    "\n",
    "We implement a simple simulation environment that supplies the agent with its percepts.\n",
    "The simple environment is infinite in size (bumpers are always `False`) and every square is always dirty, even if the agent cleans it. The environment function returns a performance measure which is here the number of cleaned squares (since the room is infinite and all squares are constantly dirty, the agent can never clean the whole room as required in the PEAS description above). The energy budget of the agent is specified as `max_steps`. "
   ],
   "metadata": {}
  },
  {
   "cell_type": "code",
   "execution_count": 1453,
   "source": [
    "def random_make_enviroment(agent, size1, size2, max_steps):\r\n",
    "    total_steps = 0\r\n",
    "    movement = {\"north\": [0, 1], \"east\": [1, 0],\r\n",
    "                \"south\": [0, -1], \"west\": [-1, 0]}\r\n",
    "    bumpers = {\"north\": False, \"east\": False, \"south\": False, \"west\": False}\r\n",
    "    dirty = True\r\n",
    "    room = np.random.choice([0, 1], size=(size1, size2), p=[.80, .20])\r\n",
    "    room = np.pad(room, pad_width=1, constant_values=2)\r\n",
    "    poistion_x = np.random.randint(1, size1+1)\r\n",
    "    position_y = np.random.randint(1, size2+1)\r\n",
    "    while room[poistion_x, position_y] == 2:\r\n",
    "        poistion_x = np.random.randint(1, size1+1)\r\n",
    "        position_y = np.random.randint(1, size2+1)\r\n",
    "    position = [poistion_x, position_y]\r\n",
    "    while 1 in room:\r\n",
    "        option = agent(bumpers,dirty)\r\n",
    "        if option == \"suck\":\r\n",
    "            room[tuple(position)] = 0\r\n",
    "            total_steps = total_steps + 1\r\n",
    "        else:\r\n",
    "            if((position[0] >= size1+1) or (position[1] >= size2+1) or (position[1] < 0) or (position[1] < 0)):\r\n",
    "                position = np.add(position,movement[option])\r\n",
    "            total_steps = total_steps + 1\r\n",
    "\r\n",
    "        if total_steps == max_steps:\r\n",
    "            break\r\n",
    "    return total_steps\r\n",
    "        \r\n"
   ],
   "outputs": [],
   "metadata": {}
  },
  {
   "cell_type": "markdown",
   "source": [
    "Do one simulation run with a simple randomized agent that has enough energy for 20 steps."
   ],
   "metadata": {}
  },
  {
   "cell_type": "code",
   "execution_count": 1454,
   "source": [
    "random_make_enviroment(simple_randomized_agent,5,5,10000)"
   ],
   "outputs": [
    {
     "output_type": "execute_result",
     "data": {
      "text/plain": [
       "10000"
      ]
     },
     "metadata": {},
     "execution_count": 1454
    }
   ],
   "metadata": {}
  },
  {
   "cell_type": "markdown",
   "source": [
    "# Tasks\n",
    "\n",
    "_Submission Instructions:_ Use this notebook to prepare your submission. Complete this section with your code and results. You can add additional Markdown blocks for your description, comments in the code and use mathplotlib to produce charts. \n",
    "\n",
    "_Note:_ Try to keep the code simple! In this course, we want to learn about the algorithms and we often do not need to use object-oriented design. \n",
    "\n",
    "\n",
    "## Task 1: Implement a simulation environment [2 Points]\n",
    "\n",
    "The simple environment above is not very realistic. Your environment simulator needs to follow the PEAS description from above. It needs to:\n",
    "\n",
    "* Initialize the environment by storing the state of each square (clean/dirty) and making some dirty.\n",
    "* Keep track of the agent's position.\n",
    "* Call the agent function repeatedly and provide the agent function with the sensor inputs.  \n",
    "* React to the agent's actions. E.g, by removing dirt from a square or moving the agent around unless there is a wall in the way.\n",
    "* Keep track of the performance measure. That is, track the agent's actions until all dirty squares are clean and count the number of actions it takes the agent to complete the task.\n",
    "\n",
    "The easiest implementation for the environment is to hold an 2-dimensional array to represent if squares are clean or dirty and to call the agent function in a loop until all squares are clean or a predefined number of steps have been reached (i.e., the robot runs out of energy).\n",
    "\n",
    "The simulation environment needs to work with the simple randomized agent program from above and then it can be used for your agent implementation in the tasks below."
   ],
   "metadata": {}
  },
  {
   "cell_type": "code",
   "execution_count": 1455,
   "source": [
    "def make_enviroment(agent, size1, size2, max_steps):\r\n",
    "    total_steps = 0\r\n",
    "    movement = {\"north\": [0, 1], \"east\": [1, 0],\r\n",
    "                \"south\": [0, -1], \"west\": [-1, 0]}\r\n",
    "    bumpers = {\"north\": False, \"east\": False, \"south\": False, \"west\": False}\r\n",
    "    dirty = True\r\n",
    "    room = np.random.choice([0, 1, 2], size=(size1, size2), p=[.70, .20, .10])\r\n",
    "    room = np.pad(room, pad_width=1, constant_values=2)\r\n",
    "    poistion_x = np.random.randint(1, size1+1)\r\n",
    "    position_y = np.random.randint(1, size2+1)\r\n",
    "    while room[poistion_x, position_y] == 2:\r\n",
    "        poistion_x = np.random.randint(1, size1+1)\r\n",
    "        position_y = np.random.randint(1, size2+1)\r\n",
    "    position = [poistion_x, position_y]\r\n",
    "    while 1 in room:\r\n",
    "        if (room[tuple(np.add(position,movement[\"north\"]))] == 2):\r\n",
    "            bumpers[\"north\"] = True\r\n",
    "        else:\r\n",
    "            bumpers[\"north\"] = False\r\n",
    "        if (room[tuple(np.add(position,movement[\"east\"]))] == 2):\r\n",
    "            bumpers[\"east\"] = True\r\n",
    "        else:\r\n",
    "            bumpers[\"east\"] = False\r\n",
    "        if (room[tuple(np.add(position,movement[\"south\"]))] == 2):\r\n",
    "            bumpers[\"south\"] = True\r\n",
    "        else:\r\n",
    "            bumpers[\"south\"] = False\r\n",
    "        if (room[tuple(np.add(position,movement[\"west\"]))] == 2):\r\n",
    "            bumpers[\"west\"] = True\r\n",
    "        else:\r\n",
    "            bumpers[\"west\"] = False\r\n",
    "        \r\n",
    "        if(room[tuple(position)] == 1):\r\n",
    "            dirty = True\r\n",
    "        else:\r\n",
    "            dirty = False\r\n",
    "        \r\n",
    "        option = agent(bumpers,dirty)\r\n",
    "        if option == \"suck\":\r\n",
    "            room[tuple(position)] = 0\r\n",
    "            total_steps = total_steps + 1\r\n",
    "        else:\r\n",
    "            position = np.add(position,movement[option])\r\n",
    "            total_steps = total_steps + 1\r\n",
    "\r\n",
    "        if total_steps == max_steps:\r\n",
    "            break\r\n",
    "    return total_steps"
   ],
   "outputs": [],
   "metadata": {}
  },
  {
   "cell_type": "markdown",
   "source": [
    "## Task 2:  Implement a simple reflex agent [1 Point] \n",
    "\n",
    "The simple reflex agent randomly walks around but reacts to the bumper sensor by not bumping into the wall and to dirt with sucking. Implement the agent program as a function.\n",
    "\n",
    "_Note:_ Agents cannot directly use variable in the environment. They only gets the percepts as the arguments to the agent function."
   ],
   "metadata": {}
  },
  {
   "cell_type": "code",
   "execution_count": 1456,
   "source": [
    "def simple_reflex_angent(bumpers,dirty):\r\n",
    "    if dirty:\r\n",
    "        return 'suck' \r\n",
    "    else:\r\n",
    "        options = [x for x, state in bumpers.items() if not state]\r\n",
    "        return np.random.choice(options)"
   ],
   "outputs": [],
   "metadata": {}
  },
  {
   "cell_type": "code",
   "execution_count": 1515,
   "source": [
    "make_enviroment(simple_reflex_angent,10,10,500)"
   ],
   "outputs": [
    {
     "output_type": "execute_result",
     "data": {
      "text/plain": [
       "500"
      ]
     },
     "metadata": {},
     "execution_count": 1515
    }
   ],
   "metadata": {}
  },
  {
   "cell_type": "markdown",
   "source": [
    "## Task 3: Implement a model-based reflex agent [3 Point]\n",
    "\n",
    "This agent keeps track of the location and remembers where it has cleaned. Assume the agent knows how many squares the room has. It can move to a corner to determine its location and then is able to use more advanced navigation.\n",
    "\n",
    "Describe how you define the __agent state__ and how your agent works before implementing it. _Note on implementing the state in Python:_ [Examples](https://github.com/mhahsler/CS7320-AI/blob/master/Python_Code_Examples/store_agent_state_information.ipynb)"
   ],
   "metadata": {}
  },
  {
   "cell_type": "code",
   "execution_count": 1458,
   "source": [
    "# Your short description of the state and your implementation goes here"
   ],
   "outputs": [],
   "metadata": {}
  },
  {
   "cell_type": "code",
   "execution_count": 1459,
   "source": [
    "def make_enviroment_model(agent, size1, size2, max_steps):\r\n",
    "    total_steps = 0\r\n",
    "    path_position_list = []\r\n",
    "    movement = {\"north\": [0, 1], \"east\": [1, 0],\r\n",
    "                \"south\": [0, -1], \"west\": [-1, 0]}\r\n",
    "    bumpers = {\"north\": False, \"east\": False, \"south\": False, \"west\": False}\r\n",
    "    dirty = True\r\n",
    "    room = np.random.choice([0, 1], size=(size1, size2), p=[.90, .10])\r\n",
    "    room = np.pad(room, pad_width=1, constant_values=2)\r\n",
    "    poistion_x = np.random.randint(1, size1+1)\r\n",
    "    position_y = np.random.randint(1, size2+1)\r\n",
    "    while room[poistion_x, position_y] == 2:\r\n",
    "        poistion_x = np.random.randint(1, size1+1)\r\n",
    "        position_y = np.random.randint(1, size2+1)\r\n",
    "    position = [poistion_x, position_y]\r\n",
    "    path_position_list.append(position)\r\n",
    "    while 1 in room:\r\n",
    "        if (room[tuple(np.add(position,movement[\"north\"]))] == 2) or (room[tuple(np.add(position,movement[\"north\"]))] == 3) :\r\n",
    "            bumpers[\"north\"] = True\r\n",
    "        else:\r\n",
    "            bumpers[\"north\"] = False\r\n",
    "        if (room[tuple(np.add(position,movement[\"east\"]))] == 2) or (room[tuple(np.add(position,movement[\"east\"]))] == 3):\r\n",
    "            bumpers[\"east\"] = True\r\n",
    "        else:\r\n",
    "            bumpers[\"east\"] = False\r\n",
    "        if (room[tuple(np.add(position,movement[\"south\"]))] == 2) or (room[tuple(np.add(position,movement[\"south\"]))] == 3):\r\n",
    "            bumpers[\"south\"] = True\r\n",
    "        else:\r\n",
    "            bumpers[\"south\"] = False\r\n",
    "        if (room[tuple(np.add(position,movement[\"west\"]))] == 2) or (room[tuple(np.add(position,movement[\"west\"]))] == 3) :\r\n",
    "            bumpers[\"west\"] = True\r\n",
    "        else:\r\n",
    "            bumpers[\"west\"] = False\r\n",
    "        \r\n",
    "        if(room[tuple(position)] == 1):\r\n",
    "            dirty = True\r\n",
    "        else:\r\n",
    "            dirty = False\r\n",
    "        \r\n",
    "        option = agent(bumpers,dirty)\r\n",
    "        if option == \"suck\":\r\n",
    "            room[tuple(position)] = 0\r\n",
    "            total_steps = total_steps + 1\r\n",
    "        if (option == \"north\") or (option == \"south\") or (option == \"east\") or (option == \"west\"):\r\n",
    "            room[tuple(position)] = 3\r\n",
    "            position = np.add(position,movement[option])\r\n",
    "            room[tuple(position)] = 3\r\n",
    "            # print(room)\r\n",
    "            total_steps = total_steps + 1\r\n",
    "        if total_steps == max_steps:\r\n",
    "            break\r\n",
    "    return total_steps\r\n",
    "     "
   ],
   "outputs": [],
   "metadata": {}
  },
  {
   "cell_type": "code",
   "execution_count": 1460,
   "source": [
    "# Your code goes here\r\n",
    "conner = False\r\n",
    "def model_reflex_angent(bumpers,dirty):\r\n",
    "    global conner\r\n",
    "    if dirty:\r\n",
    "        return 'suck' \r\n",
    "    else:\r\n",
    "        if(conner == True):\r\n",
    "            if(bumpers[\"south\"] == False):\r\n",
    "                return \"south\"\r\n",
    "            elif(bumpers[\"east\"] == False):\r\n",
    "                return \"east\"\r\n",
    "            elif(bumpers[\"west\"] == False):\r\n",
    "                return \"west\"\r\n",
    "            elif(bumpers[\"north\"] == False):\r\n",
    "                return \"north\"\r\n",
    "\r\n",
    "        if(conner == False):\r\n",
    "            if((bumpers['west'] == True) and (bumpers['north'] == True)):\r\n",
    "                conner = True\r\n",
    "            elif(bumpers[\"north\"] == False):\r\n",
    "                return 'north'\r\n",
    "            elif(bumpers[\"west\"] == False):\r\n",
    "                return 'west'\r\n",
    "            # print(bumpers)\r\n",
    "        \r\n"
   ],
   "outputs": [],
   "metadata": {}
  },
  {
   "cell_type": "code",
   "execution_count": 1507,
   "source": [
    "make_enviroment_model(model_reflex_angent,5,5,500)"
   ],
   "outputs": [
    {
     "output_type": "execute_result",
     "data": {
      "text/plain": [
       "21"
      ]
     },
     "metadata": {},
     "execution_count": 1507
    }
   ],
   "metadata": {}
  },
  {
   "cell_type": "markdown",
   "source": [
    "## Task 4: Simulation study [3 Points]\r\n",
    "\r\n",
    "Compare the performance (the performance measure is defined in the PEAS description above) of the agents using  environments of different size. E.g., $5 \\times 5$, $10 \\times 10$ and\r\n",
    "$100 \\times 100$. Use 100 random runs for each. Present the results in a suitable format (tables, graphs) and discuss the differences. \r\n",
    "\r\n",
    "Here is some help with [charts and tables.](https://github.com/mhahsler/CS7320-AI/blob/master/Python_Code_Examples/charts_and_tables.ipynb)"
   ],
   "metadata": {}
  },
  {
   "cell_type": "code",
   "execution_count": 1488,
   "source": [
    "import matplotlib.pyplot as plt"
   ],
   "outputs": [],
   "metadata": {}
  },
  {
   "cell_type": "code",
   "execution_count": 1521,
   "source": [
    "randon_angent = []\r\n",
    "simple_reflex = []\r\n",
    "modle_based = []\r\n"
   ],
   "outputs": [],
   "metadata": {}
  },
  {
   "cell_type": "code",
   "execution_count": 1580,
   "source": [
    "randon_angent_10 = []\r\n",
    "simple_reflex_10 = []\r\n",
    "modle_based_10 = []"
   ],
   "outputs": [],
   "metadata": {}
  },
  {
   "cell_type": "code",
   "execution_count": 1633,
   "source": [
    "randon_angent_100 = []\r\n",
    "simple_reflex_100 = []\r\n",
    "modle_based_100 = []"
   ],
   "outputs": [],
   "metadata": {}
  },
  {
   "cell_type": "code",
   "execution_count": 1634,
   "source": [
    "# Your code goes here\r\n",
    "for x in range(0,100):\r\n",
    "    num = random_make_enviroment(simple_randomized_agent,10,10,1000)\r\n",
    "    randon_angent_100.append(num)\r\n"
   ],
   "outputs": [],
   "metadata": {}
  },
  {
   "cell_type": "code",
   "execution_count": 1635,
   "source": [
    "for x in range(0,100):\r\n",
    "    num = make_enviroment(simple_reflex_angent,10,10,1000)\r\n",
    "    simple_reflex_100.append(num)"
   ],
   "outputs": [],
   "metadata": {}
  },
  {
   "cell_type": "code",
   "execution_count": 1689,
   "source": [
    "for x in range(0,100):\r\n",
    "    num = make_enviroment_model(model_reflex_angent,10,10,1000)\r\n",
    "    modle_based_100.append(num)"
   ],
   "outputs": [
    {
     "output_type": "execute_result",
     "data": {
      "text/plain": [
       "103"
      ]
     },
     "metadata": {},
     "execution_count": 1689
    }
   ],
   "metadata": {}
  },
  {
   "cell_type": "code",
   "execution_count": 1690,
   "source": [
    "plt.hist(randon_angent)\r\n",
    "plt.title(\"Random Based 5X5\")"
   ],
   "outputs": [
    {
     "output_type": "execute_result",
     "data": {
      "text/plain": [
       "Text(0.5, 1.0, 'Random Based 5X5')"
      ]
     },
     "metadata": {},
     "execution_count": 1690
    },
    {
     "output_type": "display_data",
     "data": {
      "image/png": "[encoded data removed]",
      "text/plain": [
       "<Figure size 432x288 with 1 Axes>"
      ]
     },
     "metadata": {
      "needs_background": "light"
     }
    }
   ],
   "metadata": {}
  },
  {
   "cell_type": "code",
   "execution_count": 1691,
   "source": [
    "plt.hist(simple_reflex)\r\n",
    "plt.title(\"Simple Relfex 5X5\")"
   ],
   "outputs": [
    {
     "output_type": "execute_result",
     "data": {
      "text/plain": [
       "Text(0.5, 1.0, 'Simple Relfex 5X5')"
      ]
     },
     "metadata": {},
     "execution_count": 1691
    },
    {
     "output_type": "display_data",
     "data": {
      "image/png": "[encoded data removed]",
      "text/plain": [
       "<Figure size 432x288 with 1 Axes>"
      ]
     },
     "metadata": {
      "needs_background": "light"
     }
    }
   ],
   "metadata": {}
  },
  {
   "cell_type": "code",
   "execution_count": 1692,
   "source": [
    "plt.hist(modle_based)\r\n",
    "plt.title(\"Model Based 5X5\")"
   ],
   "outputs": [
    {
     "output_type": "execute_result",
     "data": {
      "text/plain": [
       "Text(0.5, 1.0, 'Model Based 5X5')"
      ]
     },
     "metadata": {},
     "execution_count": 1692
    },
    {
     "output_type": "display_data",
     "data": {
      "image/png": "[encoded data removed]",
      "text/plain": [
       "<Figure size 432x288 with 1 Axes>"
      ]
     },
     "metadata": {
      "needs_background": "light"
     }
    }
   ],
   "metadata": {}
  },
  {
   "cell_type": "code",
   "execution_count": 1693,
   "source": [
    "plt.hist(randon_angent_10)\r\n",
    "plt.title(\"Random Based 10X10\")"
   ],
   "outputs": [
    {
     "output_type": "execute_result",
     "data": {
      "text/plain": [
       "Text(0.5, 1.0, 'Random Based 10X10')"
      ]
     },
     "metadata": {},
     "execution_count": 1693
    },
    {
     "output_type": "display_data",
     "data": {
      "image/png": "[encoded data removed]",
      "text/plain": [
       "<Figure size 432x288 with 1 Axes>"
      ]
     },
     "metadata": {
      "needs_background": "light"
     }
    }
   ],
   "metadata": {}
  },
  {
   "cell_type": "code",
   "execution_count": 1694,
   "source": [
    "plt.hist(simple_reflex_10)\r\n",
    "plt.title(\"Simple Reflex 10X10\")"
   ],
   "outputs": [
    {
     "output_type": "execute_result",
     "data": {
      "text/plain": [
       "Text(0.5, 1.0, 'Simple Reflex 10X10')"
      ]
     },
     "metadata": {},
     "execution_count": 1694
    },
    {
     "output_type": "display_data",
     "data": {
      "image/png": "[encoded data removed]",
      "text/plain": [
       "<Figure size 432x288 with 1 Axes>"
      ]
     },
     "metadata": {
      "needs_background": "light"
     }
    }
   ],
   "metadata": {}
  },
  {
   "cell_type": "code",
   "execution_count": 1695,
   "source": [
    "plt.hist(modle_based_10)\r\n",
    "plt.title(\"Model Based 10X10\")"
   ],
   "outputs": [
    {
     "output_type": "execute_result",
     "data": {
      "text/plain": [
       "Text(0.5, 1.0, 'Model Based 10X10')"
      ]
     },
     "metadata": {},
     "execution_count": 1695
    },
    {
     "output_type": "display_data",
     "data": {
      "image/png": "[encoded data removed]",
      "text/plain": [
       "<Figure size 432x288 with 1 Axes>"
      ]
     },
     "metadata": {
      "needs_background": "light"
     }
    }
   ],
   "metadata": {}
  },
  {
   "cell_type": "code",
   "execution_count": 1696,
   "source": [
    "plt.hist(randon_angent_100)\r\n",
    "plt.title(\"Random Based 100X100\")"
   ],
   "outputs": [
    {
     "output_type": "execute_result",
     "data": {
      "text/plain": [
       "Text(0.5, 1.0, 'Random Based 100X100')"
      ]
     },
     "metadata": {},
     "execution_count": 1696
    },
    {
     "output_type": "display_data",
     "data": {
      "image/png": "[encoded data removed]",
      "text/plain": [
       "<Figure size 432x288 with 1 Axes>"
      ]
     },
     "metadata": {
      "needs_background": "light"
     }
    }
   ],
   "metadata": {}
  },
  {
   "cell_type": "code",
   "execution_count": 1697,
   "source": [
    "plt.hist(simple_reflex_100)\r\n",
    "plt.title(\"Simple Reflex 100X100\")"
   ],
   "outputs": [
    {
     "output_type": "execute_result",
     "data": {
      "text/plain": [
       "Text(0.5, 1.0, 'Simple Reflex 100X100')"
      ]
     },
     "metadata": {},
     "execution_count": 1697
    },
    {
     "output_type": "display_data",
     "data": {
      "image/png": "[encoded data removed]",
      "text/plain": [
       "<Figure size 432x288 with 1 Axes>"
      ]
     },
     "metadata": {
      "needs_background": "light"
     }
    }
   ],
   "metadata": {}
  },
  {
   "cell_type": "code",
   "execution_count": 1698,
   "source": [
    "plt.hist(modle_based_100)\r\n",
    "plt.title(\"Model Based 100X100\")"
   ],
   "outputs": [
    {
     "output_type": "execute_result",
     "data": {
      "text/plain": [
       "Text(0.5, 1.0, 'Model Based 100X100')"
      ]
     },
     "metadata": {},
     "execution_count": 1698
    },
    {
     "output_type": "display_data",
     "data": {
      "image/png": "[encoded data removed]",
      "text/plain": [
       "<Figure size 432x288 with 1 Axes>"
      ]
     },
     "metadata": {
      "needs_background": "light"
     }
    }
   ],
   "metadata": {}
  },
  {
   "cell_type": "code",
   "execution_count": 1578,
   "source": [
    "ran_agent = (sum(randon_angent)/len(randon_angent))\r\n",
    "sim_ref = (sum(simple_reflex)/len(simple_reflex))\r\n",
    "mod_ag = sum(modle_based)/len(modle_based)\r\n",
    "print(ran_agent,sim_ref,mod_ag)"
   ],
   "outputs": [
    {
     "output_type": "stream",
     "name": "stdout",
     "text": [
      "5500.0 308.6878787878788 13.764150943396226\n"
     ]
    }
   ],
   "metadata": {}
  },
  {
   "cell_type": "code",
   "execution_count": 1632,
   "source": [
    "ran_agent = (sum(randon_angent_10)/len(randon_angent_10))\r\n",
    "sim_ref = (sum(simple_reflex_10)/len(simple_reflex_10))\r\n",
    "mod_ag = sum(modle_based_10)/len(modle_based_10)\r\n",
    "print(ran_agent,sim_ref,mod_ag)"
   ],
   "outputs": [
    {
     "output_type": "stream",
     "name": "stdout",
     "text": [
      "1000.0 841.2222222222222 90.27906976744185\n"
     ]
    }
   ],
   "metadata": {}
  },
  {
   "cell_type": "code",
   "execution_count": 1699,
   "source": [
    "ran_agent = (sum(randon_angent_100)/len(randon_angent_100))\r\n",
    "sim_ref = (sum(simple_reflex_100)/len(simple_reflex_100))\r\n",
    "mod_ag = sum(modle_based_100)/len(modle_based_100)\r\n",
    "print(ran_agent,sim_ref,mod_ag)"
   ],
   "outputs": [
    {
     "output_type": "stream",
     "name": "stdout",
     "text": [
      "1000.0 840.72 91.45631067961165\n"
     ]
    }
   ],
   "metadata": {}
  },
  {
   "cell_type": "markdown",
   "source": [
    "Fill out the following table with the average performance measure for 100 random runs (you may also create this table with code):\r\n",
    "\r\n",
    "| Size     | Randomized Agent | Simple Reflex Agent | Model-based Reflex Agent |\r\n",
    "|----------|------------------|---------------------|--------------------------|\r\n",
    "| 5x5     |5500|308.69|13.76|\r\n",
    "| 10x10   |1000|841.22|90.27|\r\n",
    "| 100x100 |1000|840.72|91.45|"
   ],
   "metadata": {}
  },
  {
   "cell_type": "markdown",
   "source": [
    "As seen from the data above the model based reflex agent preforms much better then the simple agent. Although as the size gets larger there is not a very dramtic increase in efficiency. The random agent did not perform well at all and often just maxed out. It rarely finished cleaning without maxing out of max_steps. On the other hand the model based reflex agent was able to clean the whole room in a significantly fewer amount of steps. I was reluctant to plot the randomize agent because it always hit the max but I did so anyway. Due to just the nature of the agent not reacting to percept and picking a random action it performed pitifully. As for the reflex agent it maxed out 99% less often then the randomized agent. Although it was also incredibly inificent at cleaning the room it finished before before hitting max steps. \r\n",
    " \r\n",
    " \r\n",
    "If you look at the average model base steps vs the average reflex based steps you can see that it is also significantly less and it was significantly more efficient then the reflex.  \r\n"
   ],
   "metadata": {}
  },
  {
   "cell_type": "markdown",
   "source": [
    "## Task 5: Robustness of the agent implementations [1 Point] \r\n",
    "\r\n",
    "Describe how your agent implementations will perform \r\n",
    "\r\n",
    "* if it is put into a rectangular room with unknown size, \r\n",
    "* if the cleaning area can have an iregular shape (e.g., a hallway connecting two rooms), or \r\n",
    "* if the room contains obstacles (i.e., squares that it cannot pass through and trigger the bumper sensors)."
   ],
   "metadata": {}
  },
  {
   "cell_type": "markdown",
   "source": [
    "1.For my reflex agent it will work because it finishes cleaning a room by picking a random action until all dirty square are cleaned. \r\n",
    "This also applies to my model based agent. The size of the room does not matter it will spiral around the room until all dirty square are accordingly taken care of and cleaned. \r\n",
    "\r\n",
    "2.When it comes to having a irregular shape the reflex agent would preform fine. Might not be efficient but it will eventually get the job done. This is of course because it will not stop choosing a random direction until all dirty squares are cleaned. Although when it comes to the model based agent a hallway would create issues due to the spiralling nature of the model based agent it could potentially run into itself and implode. It just would not perform well in that scenario. I would have to implement cross movement to get it to work properly.\r\n",
    "\r\n",
    "3.The reflex agent would perform well in a room with obstacles. It just would not move were obstacle are and randomly select any other square to move to and do so until all dirty square are taken care of. For the model based agent this would not work with the current logic. A obstacle could create a error were it moves into a path or square that it had already visited so therefore would not work. Cross movement would have to be implemented for it to have to work properly. "
   ],
   "metadata": {}
  },
  {
   "cell_type": "markdown",
   "source": [
    "## Graduate student advanced task: Obstacles [1 Point]\n",
    "\n",
    "__Undergraduate students:__ This is a bonus task you can attempt if you like [+1 Bonus point].\n",
    "\n",
    "1. Change your simulation environment tor run experiments for the following problem: Add random obstacle squares that also trigger the bumper sensor. The agent does not know where the obstacles are. Observe how this changes the performance of the three implementations.\n",
    "\n",
    "2. Describe what would need to be done to perform better with obstacles. Add code if you can. "
   ],
   "metadata": {}
  },
  {
   "cell_type": "markdown",
   "source": [
    "Please forgive me for not doing this I mismanaged my time. I will not let you down on the next assignment. :)"
   ],
   "metadata": {}
  },
  {
   "cell_type": "code",
   "execution_count": null,
   "source": [
    "# Your code and discussion goes here"
   ],
   "outputs": [],
   "metadata": {}
  },
  {
   "cell_type": "markdown",
   "source": [
    "## More advanced tasks to think about\n",
    "\n",
    "You can think about these:\n",
    "\n",
    "* __Unknown environment with obstacles:__ Implement an agent for an environment where the agent does not know how large the environment is (we assume it is rectangular), where it starts or where the obstacles are. An option would be to always move to the closest unchecked/uncleaned square.\n",
    "\n",
    "* __Utility-based agent:__ Change the environment, so each square has a fixed probability of getting dirty again. We assume the agent has learned this information over time. For the implementation, we give this information to the agent as a 2-dimensional array of probabilities  Cleaning one dirty square produces a utility of 1. Implement a utility-based agent that maximizes the expected utility over one full charge which lasts for 10000 time steps. This is very tricky!"
   ],
   "metadata": {}
  },
  {
   "cell_type": "code",
   "execution_count": null,
   "source": [
    "# Your ideas/code"
   ],
   "outputs": [],
   "metadata": {}
  }
 ],
 "metadata": {
  "kernelspec": {
   "name": "python3",
   "display_name": "Python 3.9.6 64-bit"
  },
  "language_info": {
   "codemirror_mode": {
    "name": "ipython",
    "version": 3
   },
   "file_extension": ".py",
   "mimetype": "text/x-python",
   "name": "python",
   "nbconvert_exporter": "python",
   "pygments_lexer": "ipython3",
   "version": "3.9.6"
  },
  "interpreter": {
   "hash": "0557b972c621f788e859033e42f3cdac4b6c737f27cd4666e107a1d2b179bd80"
  }
 },
 "nbformat": 4,
 "nbformat_minor": 4
}